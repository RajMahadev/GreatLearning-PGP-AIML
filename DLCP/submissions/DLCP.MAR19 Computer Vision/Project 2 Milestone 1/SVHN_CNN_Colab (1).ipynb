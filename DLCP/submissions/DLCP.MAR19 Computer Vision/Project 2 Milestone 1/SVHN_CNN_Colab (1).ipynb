{
  "nbformat": 4,
  "nbformat_minor": 0,
  "metadata": {
    "colab": {
      "name": "SVHN_CNN_Colab.ipynb",
      "version": "0.3.2",
      "provenance": [],
      "collapsed_sections": []
    },
    "kernelspec": {
      "name": "python2",
      "display_name": "Python 2"
    },
    "accelerator": "GPU"
  },
  "cells": [
    {
      "metadata": {
        "id": "LxjUOqbicMOa",
        "colab_type": "text"
      },
      "cell_type": "markdown",
      "source": [
        "<h1>SVHN Classification using CNNs</h1>\n",
        "\n",
        "---\n",
        "\n"
      ]
    },
    {
      "metadata": {
        "id": "GTQlTR2Scks4",
        "colab_type": "text"
      },
      "cell_type": "markdown",
      "source": [
        "# Importing Keras Modules\n"
      ]
    },
    {
      "metadata": {
        "id": "1ve46hnH315r",
        "colab_type": "code",
        "colab": {
          "base_uri": "https://localhost:8080/",
          "height": 51
        },
        "outputId": "5b9e3c04-5ee7-42bd-bcfd-797aac7d2f70"
      },
      "cell_type": "code",
      "source": [
        "#Importing important modules\n",
        "import keras\n",
        "from keras.models import Sequential\n",
        "from keras.layers import Dense, Dropout, Flatten\n",
        "from keras.layers import Conv2D, MaxPooling2D\n",
        "from keras.callbacks import ModelCheckpoint, EarlyStopping\n",
        "#Installing Tensorboard for Colab\n",
        "!pip install tensorboardcolab"
      ],
      "execution_count": 1,
      "outputs": [
        {
          "output_type": "stream",
          "text": [
            "Using TensorFlow backend.\n"
          ],
          "name": "stderr"
        },
        {
          "output_type": "stream",
          "text": [
            "Requirement already satisfied: tensorboardcolab in /usr/local/lib/python2.7/dist-packages (0.0.22)\n"
          ],
          "name": "stdout"
        }
      ]
    },
    {
      "metadata": {
        "id": "4gHx-n1N-8FK",
        "colab_type": "code",
        "colab": {
          "base_uri": "https://localhost:8080/",
          "height": 122
        },
        "outputId": "1e85e6ef-555c-4cda-b462-a1c337d2f67f"
      },
      "cell_type": "code",
      "source": [
        "from google.colab import drive\n",
        "drive.mount('/content/drive')"
      ],
      "execution_count": 2,
      "outputs": [
        {
          "output_type": "stream",
          "text": [
            "Go to this URL in a browser: https://accounts.google.com/o/oauth2/auth?client_id=947318989803-6bn6qk8qdgf4n4g3pfee6491hc0brc4i.apps.googleusercontent.com&redirect_uri=urn%3Aietf%3Awg%3Aoauth%3A2.0%3Aoob&scope=email%20https%3A%2F%2Fwww.googleapis.com%2Fauth%2Fdocs.test%20https%3A%2F%2Fwww.googleapis.com%2Fauth%2Fdrive%20https%3A%2F%2Fwww.googleapis.com%2Fauth%2Fdrive.photos.readonly%20https%3A%2F%2Fwww.googleapis.com%2Fauth%2Fpeopleapi.readonly&response_type=code\n",
            "\n",
            "Enter your authorization code:\n",
            "··········\n",
            "Mounted at /content/drive\n"
          ],
          "name": "stdout"
        }
      ]
    },
    {
      "metadata": {
        "id": "OKVkkLaLdPGU",
        "colab_type": "text"
      },
      "cell_type": "markdown",
      "source": [
        "# Loading the Dataset"
      ]
    },
    {
      "metadata": {
        "id": "JK0ZRJoxhrFe",
        "colab_type": "text"
      },
      "cell_type": "markdown",
      "source": [
        "<h3>Import train and test sets of  SVHN dataset</h3>"
      ]
    },
    {
      "metadata": {
        "id": "Jv3nQR9L4WE2",
        "colab_type": "code",
        "colab": {}
      },
      "cell_type": "code",
      "source": [
        "import h5py\n",
        "import numpy as np\n",
        "\n",
        "# Open the file as readonly\n",
        "h5f = h5py.File('/content/drive/My Drive/DLCP/Project-1/Data/SVHN_single_grey1.h5', 'r')\n",
        "\n",
        "# Load the training, test and validation set\n",
        "x_train = h5f['X_train'][:]\n",
        "y_train = h5f['y_train'][:]\n",
        "x_test = h5f['X_test'][:]\n",
        "y_test = h5f['y_test'][:]\n",
        "\n",
        "\n",
        "# Close this file\n",
        "h5f.close()\n"
      ],
      "execution_count": 0,
      "outputs": []
    },
    {
      "metadata": {
        "id": "PEcVz-OotHWM",
        "colab_type": "text"
      },
      "cell_type": "markdown",
      "source": [
        "<h4>Visualizing the dataset</h4>\n",
        "(Visualize first 25 test images from the dataset using matplotlib)  **2.5 Points**"
      ]
    },
    {
      "metadata": {
        "id": "dqpGua7ZqUdV",
        "colab_type": "code",
        "colab": {
          "base_uri": "https://localhost:8080/",
          "height": 486
        },
        "outputId": "a240a5c8-3b2d-4c42-8175-09b59be7488d"
      },
      "cell_type": "code",
      "source": [
        "%matplotlib inline\n",
        "\n",
        "import matplotlib.pyplot as plt\n",
        "w=10\n",
        "h=10\n",
        "fig=plt.figure(figsize=(8, 8))\n",
        "columns = 5\n",
        "rows = 5\n",
        "for i in range(1, columns*rows +1):\n",
        "    img = x_test[i]\n",
        "    fig.add_subplot(rows, columns, i)\n",
        "    plt.imshow(img, cmap='gray')\n",
        "plt.show()"
      ],
      "execution_count": 4,
      "outputs": [
        {
          "output_type": "display_data",
          "data": {
            "image/png": "[encoded data removed]",
            "text/plain": [
              "<Figure size 576x576 with 25 Axes>"
            ]
          },
          "metadata": {
            "tags": []
          }
        }
      ]
    },
    {
      "metadata": {
        "id": "0D29eowNhmU8",
        "colab_type": "text"
      },
      "cell_type": "markdown",
      "source": [
        "<h3>Reshape train and test sets into shapes compatible with keras models</h3>\n",
        "\n",
        "<h4>Keras expects data to be in the format (N_E.N_H,N_W,N_C)  N_E = Number of Examples, N_H = height, N_W = Width, N_C = Number of Channels.</h4>\n"
      ]
    },
    {
      "metadata": {
        "id": "KYCYajiwdozQ",
        "colab_type": "code",
        "colab": {}
      },
      "cell_type": "code",
      "source": [
        "# input image dimensions\n",
        "img_rows, img_cols = 32, 32\n",
        "\n",
        "#Keras expects data to be in the format (N_E.N_H,N_W,N_C)\n",
        "#N_E = Number of Examples, N_H = height, N_W = Width, N_C = Number of Channels.\n",
        "x_train = x_train.reshape(x_train.shape[0], img_rows, img_cols, 1)\n",
        "x_test = x_test.reshape(x_test.shape[0], img_rows, img_cols, 1)\n",
        "input_shape = (img_rows, img_cols, 1)"
      ],
      "execution_count": 0,
      "outputs": []
    },
    {
      "metadata": {
        "id": "kMGQuoyNiqmL",
        "colab_type": "text"
      },
      "cell_type": "markdown",
      "source": [
        "<h3>Pre-processing the dataset</h3>\n",
        "<h4>Normalizing the input</h4>"
      ]
    },
    {
      "metadata": {
        "id": "M1kXqqfV4d_b",
        "colab_type": "code",
        "colab": {
          "base_uri": "https://localhost:8080/",
          "height": 68
        },
        "outputId": "f7bb0af7-5f82-43e5-bbcd-2d9c99250331"
      },
      "cell_type": "code",
      "source": [
        "x_train = x_train.astype('float32')\n",
        "x_test = x_test.astype('float32')\n",
        "\n",
        "#Normalizing the input\n",
        "x_train /= 255.0\n",
        "x_test /= 255.0\n",
        "print('x_train shape:', x_train.shape)\n",
        "print(x_train.shape[0], 'train samples')\n",
        "print(x_test.shape[0], 'test samples')"
      ],
      "execution_count": 6,
      "outputs": [
        {
          "output_type": "stream",
          "text": [
            "('x_train shape:', (42000, 32, 32, 1))\n",
            "(42000, 'train samples')\n",
            "(18000, 'test samples')\n"
          ],
          "name": "stdout"
        }
      ]
    },
    {
      "metadata": {
        "id": "nlJ0ogZ4dG3G",
        "colab_type": "code",
        "colab": {}
      },
      "cell_type": "code",
      "source": [
        "batch_size = 128\n",
        "num_classes = 10\n",
        "epochs = 12"
      ],
      "execution_count": 0,
      "outputs": []
    },
    {
      "metadata": {
        "id": "N8TE7MoZi_w7",
        "colab_type": "text"
      },
      "cell_type": "markdown",
      "source": [
        "<h4>Convert Labels from digits to one hot vectors</h4>  **2.5 Points**"
      ]
    },
    {
      "metadata": {
        "id": "cqh-cVtT4ijU",
        "colab_type": "code",
        "colab": {}
      },
      "cell_type": "code",
      "source": [
        "# convert class vectors to binary class matrices\n",
        "y_train = keras.utils.to_categorical(y_train, num_classes)\n",
        "y_test = keras.utils.to_categorical(y_test, num_classes)"
      ],
      "execution_count": 0,
      "outputs": []
    },
    {
      "metadata": {
        "id": "QV4R9IbjjOVT",
        "colab_type": "text"
      },
      "cell_type": "markdown",
      "source": [
        "# Building the CNN \n",
        "\n",
        "<h4>Define the layers of model</h4>  **5 Points**"
      ]
    },
    {
      "metadata": {
        "id": "7sse4G5d4lpY",
        "colab_type": "code",
        "colab": {
          "base_uri": "https://localhost:8080/",
          "height": 139
        },
        "outputId": "c7329e4c-a038-4c7e-b9a9-8ecb7e9435a3"
      },
      "cell_type": "code",
      "source": [
        "#Initialize the model\n",
        "model = Sequential()\n",
        "\n",
        "#Add a Convolutional Layer with 32 filters of size 3X3 and activation function as 'ReLU' \n",
        "model.add(Conv2D(32, kernel_size=(3, 3),\n",
        "                 activation='relu',\n",
        "                 input_shape=input_shape))\n",
        "\n",
        "#Add a Convolutional Layer with 64 filters of size 3X3 and activation function as 'ReLU' \n",
        "model.add(Conv2D(64, (3, 3), activation='relu'))\n",
        "\n",
        "#Add a MaxPooling Layer of size 2X2 \n",
        "model.add(MaxPooling2D(pool_size=(2, 2)))\n",
        "\n",
        "#Apply Dropout with 0.25 probability \n",
        "model.add(Dropout(0.25))\n",
        "\n",
        "#Flatten the layer\n",
        "model.add(Flatten())\n",
        "\n",
        "#Add Fully Connected Layer with 128 units and activation function as 'ReLU'\n",
        "model.add(Dense(128, activation='relu'))\n",
        "\n",
        "#Apply Dropout with 0.5 probability \n",
        "model.add(Dropout(0.5))\n",
        "\n",
        "#Add Fully Connected Layer with 10 units and activation function as 'softmax'\n",
        "model.add(Dense(num_classes, activation='softmax'))"
      ],
      "execution_count": 9,
      "outputs": [
        {
          "output_type": "stream",
          "text": [
            "WARNING:tensorflow:From /usr/local/lib/python2.7/dist-packages/tensorflow/python/framework/op_def_library.py:263: colocate_with (from tensorflow.python.framework.ops) is deprecated and will be removed in a future version.\n",
            "Instructions for updating:\n",
            "Colocations handled automatically by placer.\n",
            "WARNING:tensorflow:From /usr/local/lib/python2.7/dist-packages/keras/backend/tensorflow_backend.py:3445: calling dropout (from tensorflow.python.ops.nn_ops) with keep_prob is deprecated and will be removed in a future version.\n",
            "Instructions for updating:\n",
            "Please use `rate` instead of `keep_prob`. Rate should be set to `rate = 1 - keep_prob`.\n"
          ],
          "name": "stdout"
        }
      ]
    },
    {
      "metadata": {
        "id": "iDYmge-AlJTX",
        "colab_type": "text"
      },
      "cell_type": "markdown",
      "source": [
        "<h4>Set Adam Optimizer and Loss function for training</h4>  **2.5 Points**"
      ]
    },
    {
      "metadata": {
        "id": "W-y6cZaL4p6R",
        "colab_type": "code",
        "colab": {}
      },
      "cell_type": "code",
      "source": [
        "from keras.optimizers import Adam\n",
        "from keras.losses import categorical_crossentropy\n",
        "\n",
        "#To use adam optimizer for learning weights with learning rate = 0.001\n",
        "optimizer = Adam(lr=0.001)\n",
        "#Set the loss function and optimizer for the model training\n",
        "model.compile(loss=categorical_crossentropy,\n",
        "              optimizer=optimizer,\n",
        "              metrics=['accuracy'])"
      ],
      "execution_count": 0,
      "outputs": []
    },
    {
      "metadata": {
        "id": "wVHOojpJlvVa",
        "colab_type": "text"
      },
      "cell_type": "markdown",
      "source": [
        "# Training the CNN - 10 Points"
      ]
    },
    {
      "metadata": {
        "id": "PF0yBjA0jkm-",
        "colab_type": "text"
      },
      "cell_type": "markdown",
      "source": [
        "<h4>Initializing the Tensorboard callback for visualization of training</h4>"
      ]
    },
    {
      "metadata": {
        "id": "fCysYIM2I-6f",
        "colab_type": "code",
        "colab": {
          "base_uri": "https://localhost:8080/",
          "height": 68
        },
        "outputId": "c6cdb830-b4d8-4e8d-efd3-8d4432f7ffd8"
      },
      "cell_type": "code",
      "source": [
        "#Import tensorboardcolab modules for creating a tensorboard call back which will passed in model.fit function.\n",
        "from tensorboardcolab import TensorBoardColab, TensorBoardColabCallback\n",
        "\n",
        "#Tensorboard callback is going to be added to model.fit function to draw graphs of loss values after every epoch\n",
        "tbc = TensorBoardColab()"
      ],
      "execution_count": 11,
      "outputs": [
        {
          "output_type": "stream",
          "text": [
            "Wait for 8 seconds...\n",
            "TensorBoard link:\n",
            "http://d344b305.ngrok.io\n"
          ],
          "name": "stdout"
        }
      ]
    },
    {
      "metadata": {
        "id": "Oe1YtBzrmCaL",
        "colab_type": "text"
      },
      "cell_type": "markdown",
      "source": [
        "<h4>Initializing Early stopping and Model chekpoint callbacks </h4>"
      ]
    },
    {
      "metadata": {
        "id": "WJ3u9GaFl-Xl",
        "colab_type": "code",
        "colab": {}
      },
      "cell_type": "code",
      "source": [
        "#Adding Early stopping callback to the fit function is going to stop the training,\n",
        "#if the val_loss is not going to change even '0.001' for more than 10 continous epochs\n",
        "\n",
        "early_stopping = EarlyStopping(monitor='val_loss', min_delta=0.001, patience=10)\n",
        "\n",
        "#Adding Model Checkpoint callback to the fit function is going to save the weights whenever val_loss achieves a new low value. \n",
        "#Hence saving the best weights occurred during training\n",
        "\n",
        "model_checkpoint =  ModelCheckpoint('mnist_cnn_checkpoint_{epoch:02d}_loss{val_loss:.4f}.h5',\n",
        "                                                           monitor='val_loss',\n",
        "                                                           verbose=1,\n",
        "                                                           save_best_only=True,\n",
        "                                                           save_weights_only=True,\n",
        "                                                           mode='auto',\n",
        "                                                           period=1)"
      ],
      "execution_count": 0,
      "outputs": []
    },
    {
      "metadata": {
        "id": "wJIhBhbDmZ8U",
        "colab_type": "text"
      },
      "cell_type": "markdown",
      "source": [
        "<h4>Fit the model to the dataset</h4>"
      ]
    },
    {
      "metadata": {
        "id": "QDBvTM2B4smP",
        "colab_type": "code",
        "colab": {
          "base_uri": "https://localhost:8080/",
          "height": 938
        },
        "outputId": "dea54c00-4097-4417-c6a9-8e9bfb235304"
      },
      "cell_type": "code",
      "source": [
        "#Training on the dataset and adding the all the callbacks to the fit function.\n",
        "#Once the training starts, results start appearing on Tensorboard after 1 epoch\n",
        "model.fit(x_train, y_train,\n",
        "          batch_size=batch_size,\n",
        "          epochs=epochs,\n",
        "          verbose=1,\n",
        "          validation_data=(x_test, y_test),\n",
        "          callbacks=[TensorBoardColabCallback(tbc),early_stopping,model_checkpoint])"
      ],
      "execution_count": 13,
      "outputs": [
        {
          "output_type": "stream",
          "text": [
            "WARNING:tensorflow:From /usr/local/lib/python2.7/dist-packages/tensorflow/python/ops/math_ops.py:3066: to_int32 (from tensorflow.python.ops.math_ops) is deprecated and will be removed in a future version.\n",
            "Instructions for updating:\n",
            "Use tf.cast instead.\n",
            "Train on 42000 samples, validate on 18000 samples\n",
            "Epoch 1/12\n",
            "42000/42000 [==============================] - 11s 263us/step - loss: 1.3786 - acc: 0.5498 - val_loss: 0.6839 - val_acc: 0.8086\n",
            "\n",
            "Epoch 00001: val_loss improved from inf to 0.68393, saving model to mnist_cnn_checkpoint_01_loss0.6839.h5\n",
            "Epoch 2/12\n",
            "42000/42000 [==============================] - 8s 185us/step - loss: 0.7501 - acc: 0.7721 - val_loss: 0.5465 - val_acc: 0.8432\n",
            "\n",
            "Epoch 00002: val_loss improved from 0.68393 to 0.54648, saving model to mnist_cnn_checkpoint_02_loss0.5465.h5\n",
            "Epoch 3/12\n",
            "42000/42000 [==============================] - 8s 186us/step - loss: 0.6337 - acc: 0.8044 - val_loss: 0.4869 - val_acc: 0.8591\n",
            "\n",
            "Epoch 00003: val_loss improved from 0.54648 to 0.48685, saving model to mnist_cnn_checkpoint_03_loss0.4869.h5\n",
            "Epoch 4/12\n",
            "42000/42000 [==============================] - 8s 185us/step - loss: 0.5769 - acc: 0.8234 - val_loss: 0.4431 - val_acc: 0.8698\n",
            "\n",
            "Epoch 00004: val_loss improved from 0.48685 to 0.44310, saving model to mnist_cnn_checkpoint_04_loss0.4431.h5\n",
            "Epoch 5/12\n",
            "42000/42000 [==============================] - 8s 185us/step - loss: 0.5263 - acc: 0.8360 - val_loss: 0.4265 - val_acc: 0.8706\n",
            "\n",
            "Epoch 00005: val_loss improved from 0.44310 to 0.42655, saving model to mnist_cnn_checkpoint_05_loss0.4265.h5\n",
            "Epoch 6/12\n",
            "42000/42000 [==============================] - 8s 185us/step - loss: 0.5089 - acc: 0.8424 - val_loss: 0.4277 - val_acc: 0.8715\n",
            "\n",
            "Epoch 00006: val_loss did not improve from 0.42655\n",
            "Epoch 7/12\n",
            "42000/42000 [==============================] - 8s 185us/step - loss: 0.4744 - acc: 0.8511 - val_loss: 0.4030 - val_acc: 0.8810\n",
            "\n",
            "Epoch 00007: val_loss improved from 0.42655 to 0.40300, saving model to mnist_cnn_checkpoint_07_loss0.4030.h5\n",
            "Epoch 8/12\n",
            "42000/42000 [==============================] - 8s 186us/step - loss: 0.4571 - acc: 0.8578 - val_loss: 0.3851 - val_acc: 0.8873\n",
            "\n",
            "Epoch 00008: val_loss improved from 0.40300 to 0.38510, saving model to mnist_cnn_checkpoint_08_loss0.3851.h5\n",
            "Epoch 9/12\n",
            "42000/42000 [==============================] - 8s 185us/step - loss: 0.4384 - acc: 0.8632 - val_loss: 0.3744 - val_acc: 0.8887\n",
            "\n",
            "Epoch 00009: val_loss improved from 0.38510 to 0.37444, saving model to mnist_cnn_checkpoint_09_loss0.3744.h5\n",
            "Epoch 10/12\n",
            "42000/42000 [==============================] - 8s 185us/step - loss: 0.4204 - acc: 0.8689 - val_loss: 0.3747 - val_acc: 0.8896\n",
            "\n",
            "Epoch 00010: val_loss did not improve from 0.37444\n",
            "Epoch 11/12\n",
            "42000/42000 [==============================] - 8s 184us/step - loss: 0.4025 - acc: 0.8740 - val_loss: 0.3646 - val_acc: 0.8924\n",
            "\n",
            "Epoch 00011: val_loss improved from 0.37444 to 0.36456, saving model to mnist_cnn_checkpoint_11_loss0.3646.h5\n",
            "Epoch 12/12\n",
            "42000/42000 [==============================] - 8s 185us/step - loss: 0.3898 - acc: 0.8772 - val_loss: 0.3618 - val_acc: 0.8947\n",
            "\n",
            "Epoch 00012: val_loss improved from 0.36456 to 0.36184, saving model to mnist_cnn_checkpoint_12_loss0.3618.h5\n"
          ],
          "name": "stdout"
        },
        {
          "output_type": "execute_result",
          "data": {
            "text/plain": [
              "<keras.callbacks.History at 0x7f02f165ba50>"
            ]
          },
          "metadata": {
            "tags": []
          },
          "execution_count": 13
        }
      ]
    },
    {
      "metadata": {
        "id": "U3WWyAm_me96",
        "colab_type": "text"
      },
      "cell_type": "markdown",
      "source": [
        "# Evaluating the CNN"
      ]
    },
    {
      "metadata": {
        "id": "_DnRZGxSmi5C",
        "colab_type": "text"
      },
      "cell_type": "markdown",
      "source": [
        "<h4>Evaluate trained model on the test set</h4>  ** 2.5 Points**"
      ]
    },
    {
      "metadata": {
        "id": "q4oZhZm34v_R",
        "colab_type": "code",
        "colab": {
          "base_uri": "https://localhost:8080/",
          "height": 68
        },
        "outputId": "00565943-6ea3-4fa4-d456-a50793cb8bb8"
      },
      "cell_type": "code",
      "source": [
        "#Testing the model on test set\n",
        "score = model.evaluate(x_test, y_test)\n",
        "print('Test loss:', score[0])\n",
        "print('Test accuracy:', score[1])"
      ],
      "execution_count": 14,
      "outputs": [
        {
          "output_type": "stream",
          "text": [
            "18000/18000 [==============================] - 2s 118us/step\n",
            "('Test loss:', 0.36183942025237614)\n",
            "('Test accuracy:', 0.8947222222222222)\n"
          ],
          "name": "stdout"
        }
      ]
    },
    {
      "metadata": {
        "id": "tWuDdzf0rgf-",
        "colab_type": "text"
      },
      "cell_type": "markdown",
      "source": [
        "<h4>Visualize 5 test set image predictions</h4>  **2.5 Points**"
      ]
    },
    {
      "metadata": {
        "id": "fiT52J2Gqk2D",
        "colab_type": "code",
        "colab": {
          "base_uri": "https://localhost:8080/",
          "height": 817
        },
        "outputId": "bbb7f014-eb55-4016-9918-c0dbd3823b49"
      },
      "cell_type": "code",
      "source": [
        "import numpy as np\n",
        "\n",
        "plt.figure(figsize=(2,2))\n",
        "plt.imshow(x_test[3].reshape(32,32),cmap=\"gray\")\n",
        "plt.show()\n",
        "print(np.argmax(model.predict(x_test[3].reshape(1,32,32,1))))\n",
        "\n",
        "\n",
        "plt.figure(figsize=(2,2))\n",
        "plt.imshow(x_test[2].reshape(32,32),cmap=\"gray\")\n",
        "plt.show()\n",
        "print(np.argmax(model.predict(x_test[2].reshape(1,32,32,1))))\n",
        "\n",
        "\n",
        "plt.figure(figsize=(2,2))\n",
        "plt.imshow(x_test[33].reshape(32,32),cmap=\"gray\")\n",
        "plt.show()\n",
        "print(np.argmax(model.predict(x_test[33].reshape(1,32,32,1))))\n",
        "\n",
        "\n",
        "plt.figure(figsize=(2,2))\n",
        "plt.imshow(x_test[59].reshape(32,32),cmap=\"gray\")\n",
        "plt.show()\n",
        "print(np.argmax(model.predict(x_test[59].reshape(1,32,32,1))))\n",
        "\n",
        "\n",
        "plt.figure(figsize=(2,2))\n",
        "plt.imshow(x_test[36].reshape(32,32),cmap=\"gray\")\n",
        "plt.show()\n",
        "print(np.argmax(model.predict(x_test[36].reshape(1,32,32,1))))"
      ],
      "execution_count": 15,
      "outputs": [
        {
          "output_type": "display_data",
          "data": {
            "image/png": "[encoded data removed]",
            "text/plain": [
              "<Figure size 144x144 with 1 Axes>"
            ]
          },
          "metadata": {
            "tags": []
          }
        },
        {
          "output_type": "stream",
          "text": [
            "9\n"
          ],
          "name": "stdout"
        },
        {
          "output_type": "display_data",
          "data": {
            "image/png": "[encoded data removed]",
            "text/plain": [
              "<Figure size 144x144 with 1 Axes>"
            ]
          },
          "metadata": {
            "tags": []
          }
        },
        {
          "output_type": "stream",
          "text": [
            "2\n"
          ],
          "name": "stdout"
        },
        {
          "output_type": "display_data",
          "data": {
            "image/png": "[encoded data removed]",
            "text/plain": [
              "<Figure size 144x144 with 1 Axes>"
            ]
          },
          "metadata": {
            "tags": []
          }
        },
        {
          "output_type": "stream",
          "text": [
            "1\n"
          ],
          "name": "stdout"
        },
        {
          "output_type": "display_data",
          "data": {
            "image/png": "[encoded data removed]",
            "text/plain": [
              "<Figure size 144x144 with 1 Axes>"
            ]
          },
          "metadata": {
            "tags": []
          }
        },
        {
          "output_type": "stream",
          "text": [
            "9\n"
          ],
          "name": "stdout"
        },
        {
          "output_type": "display_data",
          "data": {
            "image/png": "[encoded data removed]",
            "text/plain": [
              "<Figure size 144x144 with 1 Axes>"
            ]
          },
          "metadata": {
            "tags": []
          }
        },
        {
          "output_type": "stream",
          "text": [
            "5\n"
          ],
          "name": "stdout"
        }
      ]
    },
    {
      "metadata": {
        "id": "Fvl0nK6pmsmt",
        "colab_type": "text"
      },
      "cell_type": "markdown",
      "source": [
        "# Saving the CNN"
      ]
    },
    {
      "metadata": {
        "id": "xM4Ram-pmyPd",
        "colab_type": "text"
      },
      "cell_type": "markdown",
      "source": [
        "<h4>Save the trained weights and model in h5 files</h4>  **2.5 Points**"
      ]
    },
    {
      "metadata": {
        "id": "fhTA0qnm85kH",
        "colab_type": "code",
        "colab": {}
      },
      "cell_type": "code",
      "source": [
        "#Set the path where you want to store the model and weights. \n",
        "model.save('./cnn_svhn.h5')\n",
        "model.save_weights('./cnn_svhn_weights.h5')"
      ],
      "execution_count": 0,
      "outputs": []
    },
    {
      "metadata": {
        "id": "EZKyr0_Wcr0W",
        "colab_type": "code",
        "colab": {}
      },
      "cell_type": "code",
      "source": [
        ""
      ],
      "execution_count": 0,
      "outputs": []
    }
  ]
}