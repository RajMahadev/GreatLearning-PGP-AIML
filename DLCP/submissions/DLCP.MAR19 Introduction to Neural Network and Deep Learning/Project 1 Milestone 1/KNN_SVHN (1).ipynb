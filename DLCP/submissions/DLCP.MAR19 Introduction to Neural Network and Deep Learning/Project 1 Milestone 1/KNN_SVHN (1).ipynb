{
  "nbformat": 4,
  "nbformat_minor": 0,
  "metadata": {
    "colab": {
      "name": "KNN_SVHN.ipynb",
      "version": "0.3.2",
      "provenance": [],
      "collapsed_sections": []
    },
    "kernelspec": {
      "name": "python3",
      "display_name": "Python 3"
    },
    "accelerator": "GPU"
  },
  "cells": [
    {
      "metadata": {
        "id": "XcFIPWvnYNBh",
        "colab_type": "text"
      },
      "cell_type": "markdown",
      "source": [
        "### KNN on SVHN"
      ]
    },
    {
      "metadata": {
        "id": "ds9zaDO5YNBl",
        "colab_type": "text"
      },
      "cell_type": "markdown",
      "source": [
        "#### Import the data from drive"
      ]
    },
    {
      "metadata": {
        "id": "gZp1h9dtYNBp",
        "colab_type": "code",
        "colab": {}
      },
      "cell_type": "code",
      "source": [
        "import warnings \n",
        "warnings.filterwarnings('ignore')\n",
        "import numpy as np\n",
        "np.seterr(over='ignore')\n",
        "import os\n",
        "import matplotlib.pyplot as plt"
      ],
      "execution_count": 0,
      "outputs": []
    },
    {
      "metadata": {
        "id": "XigP8_PKYNB_",
        "colab_type": "code",
        "outputId": "d5201a1d-9983-4c0b-8d6a-b7874618450e",
        "colab": {
          "base_uri": "https://localhost:8080/",
          "height": 122
        }
      },
      "cell_type": "code",
      "source": [
        "from google.colab import drive\n",
        "drive.mount('/content/drive')"
      ],
      "execution_count": 3,
      "outputs": [
        {
          "output_type": "stream",
          "text": [
            "Go to this URL in a browser: https://accounts.google.com/o/oauth2/auth?client_id=947318989803-6bn6qk8qdgf4n4g3pfee6491hc0brc4i.apps.googleusercontent.com&redirect_uri=urn%3Aietf%3Awg%3Aoauth%3A2.0%3Aoob&scope=email%20https%3A%2F%2Fwww.googleapis.com%2Fauth%2Fdocs.test%20https%3A%2F%2Fwww.googleapis.com%2Fauth%2Fdrive%20https%3A%2F%2Fwww.googleapis.com%2Fauth%2Fdrive.photos.readonly%20https%3A%2F%2Fwww.googleapis.com%2Fauth%2Fpeopleapi.readonly&response_type=code\n",
            "\n",
            "Enter your authorization code:\n",
            "··········\n",
            "Mounted at /content/drive\n"
          ],
          "name": "stdout"
        }
      ]
    },
    {
      "metadata": {
        "scrolled": true,
        "id": "6W_uHcbvYNCH",
        "colab_type": "code",
        "outputId": "220a7e56-95f8-4911-bfd3-bb4336c207ff",
        "colab": {
          "base_uri": "https://localhost:8080/",
          "height": 51
        }
      },
      "cell_type": "code",
      "source": [
        "import h5py\n",
        "import numpy as np\n",
        "\n",
        "# Open the file as readonly\n",
        "h5f = h5py.File('/content/drive/My Drive/DLCP/Project-1/Data/SVHN_single_grey1.h5', 'r')\n",
        "\n",
        "# Load the training, test and validation set\n",
        "x_train = h5f['X_train'][:]\n",
        "y_train = h5f['y_train'][:]\n",
        "x_test = h5f['X_test'][:]\n",
        "y_test = h5f['y_test'][:]\n",
        "\n",
        "\n",
        "# Close this file\n",
        "h5f.close()\n",
        "\n",
        "x_train = x_train.reshape(x_train.shape[0], 1024)\n",
        "x_test = x_test.reshape(x_test.shape[0], 1024)\n",
        "\n",
        "# # normalize inputs from 0-255 to 0-1\n",
        "x_train = x_train / 255.0\n",
        "x_test = x_test / 255.0\n",
        "\n",
        "print('Training set', x_train.shape, y_train.shape)\n",
        "print('Test set', x_test.shape, y_test.shape)"
      ],
      "execution_count": 4,
      "outputs": [
        {
          "output_type": "stream",
          "text": [
            "Training set (42000, 1024) (42000,)\n",
            "Test set (18000, 1024) (18000,)\n"
          ],
          "name": "stdout"
        }
      ]
    },
    {
      "metadata": {
        "id": "42_VlbrCYNCU",
        "colab_type": "code",
        "outputId": "be8f6b29-bf32-49e7-e924-25b0a371f76a",
        "colab": {
          "base_uri": "https://localhost:8080/",
          "height": 51
        }
      },
      "cell_type": "code",
      "source": [
        "print(x_train.shape)\n",
        "print(y_train.shape)"
      ],
      "execution_count": 5,
      "outputs": [
        {
          "output_type": "stream",
          "text": [
            "(42000, 1024)\n",
            "(42000,)\n"
          ],
          "name": "stdout"
        }
      ]
    },
    {
      "metadata": {
        "scrolled": true,
        "id": "b4uWBlJRYNCd",
        "colab_type": "code",
        "outputId": "fb568ea0-2e2e-4fce-cf5c-c3ee2b25ceb1",
        "colab": {
          "base_uri": "https://localhost:8080/",
          "height": 51
        }
      },
      "cell_type": "code",
      "source": [
        "print(x_test.shape)\n",
        "print(y_test.shape)"
      ],
      "execution_count": 6,
      "outputs": [
        {
          "output_type": "stream",
          "text": [
            "(18000, 1024)\n",
            "(18000,)\n"
          ],
          "name": "stdout"
        }
      ]
    },
    {
      "metadata": {
        "id": "BNLzdpqGYNCi",
        "colab_type": "text"
      },
      "cell_type": "markdown",
      "source": [
        "### Visualizing the first 10 images in the dataset and their labels"
      ]
    },
    {
      "metadata": {
        "id": "RBtkVOr7YNCj",
        "colab_type": "code",
        "outputId": "e95bc64e-1c90-4159-aac4-4c91a83043cb",
        "colab": {
          "base_uri": "https://localhost:8080/",
          "height": 320
        }
      },
      "cell_type": "code",
      "source": [
        "import matplotlib.pyplot as plt\n",
        "fig = plt.figure(figsize=(10,10))\n",
        "fig = plt.figure()\n",
        "columns = 5\n",
        "rows = 2\n",
        "for i in range(1,columns*rows+1):\n",
        "  img = x_train[i-1].reshape((32,32))\n",
        "  fig.add_subplot(rows,columns,i)\n",
        "  plt.gca().set_title(y_train[i-1])\n",
        "  plt.gca().axis('off')\n",
        "  plt.imshow(img,cmap=\"gray\")\n",
        "plt.show()"
      ],
      "execution_count": 26,
      "outputs": [
        {
          "output_type": "display_data",
          "data": {
            "text/plain": [
              "<Figure size 720x720 with 0 Axes>"
            ]
          },
          "metadata": {
            "tags": []
          }
        },
        {
          "output_type": "display_data",
          "data": {
            "image/png": "[encoded data removed]",
            "text/plain": [
              "<Figure size 576x396 with 10 Axes>"
            ]
          },
          "metadata": {
            "tags": []
          }
        }
      ]
    },
    {
      "metadata": {
        "id": "MXpZef7IYNCm",
        "colab_type": "text"
      },
      "cell_type": "markdown",
      "source": [
        "### Build KNN and predict the outputs for any 2 images from the test data."
      ]
    },
    {
      "metadata": {
        "id": "6R6Ya38TYNCn",
        "colab_type": "code",
        "colab": {}
      },
      "cell_type": "code",
      "source": [
        "from sklearn.neighbors import KNeighborsClassifier"
      ],
      "execution_count": 0,
      "outputs": []
    },
    {
      "metadata": {
        "id": "IvOv03j5YNCq",
        "colab_type": "code",
        "colab": {
          "base_uri": "https://localhost:8080/",
          "height": 119
        },
        "outputId": "c5d6ec13-403b-4c1c-db68-696689e01a76"
      },
      "cell_type": "code",
      "source": [
        "kVals = range(41, 50, 2)\n",
        "accuracies = []\n",
        " \n",
        "# loop over various values of `k` for the k-Nearest Neighbor classifier\n",
        "for k in range(41, 50, 2):\n",
        "\t# train the k-Nearest Neighbor classifier with the current value of `k`\n",
        "\tmodel = KNeighborsClassifier(n_neighbors=k)\n",
        "\tmodel.fit(x_train, y_train)\n",
        " \n",
        "\t# evaluate the model and update the accuracies list\n",
        "\tscore = model.score(x_test, y_test)\n",
        "\tprint(\"k=%d, accuracy=%.2f%%\" % (k, score * 100))\n",
        "\taccuracies.append(score)\n",
        " \n",
        "# find the value of k that has the largest accuracy\n",
        "i = int(np.argmax(accuracies))\n",
        "print(\"k=%d achieved highest accuracy of %.2f%% on validation data\" % (kVals[i],\n",
        "\taccuracies[i] * 100))"
      ],
      "execution_count": 14,
      "outputs": [
        {
          "output_type": "stream",
          "text": [
            "k=41, accuracy=53.73%\n",
            "k=43, accuracy=53.82%\n",
            "k=45, accuracy=53.82%\n",
            "k=47, accuracy=54.02%\n",
            "k=49, accuracy=53.81%\n",
            "k=47 achieved highest accuracy of 54.02% on validation data\n"
          ],
          "name": "stdout"
        }
      ]
    },
    {
      "metadata": {
        "id": "NATsHOFMIZQU",
        "colab_type": "code",
        "colab": {
          "base_uri": "https://localhost:8080/",
          "height": 361
        },
        "outputId": "b74640c8-7374-48ac-8c01-05bd6cb0839a"
      },
      "cell_type": "code",
      "source": [
        "# Run the above cell with different ranges \n",
        "# Since Colab doesn't allow more than 12 hrs of continuous GPU run\n",
        "# Compile the results in python lists\n",
        "# Accuracy plotted against k value\n",
        "k = [1,3,5,7,9,11,13,15,17,19,21,23,25,27,29,31,33,35,37,39,41,43,45,47,49]\n",
        "accuracies = [45.92,46.18,49.02,50.71,51.24,51.80,52.11,52.36,52.87,52.72,52.91,52.98,52.97,53.23,53.16,53.29,53.31,53.43,53.44,53.72,53.73,53.82,53.82,54.02,53.81]\n",
        "plt.plot(k,accuracies,'*-')\n",
        "plt.xlabel('k')\n",
        "plt.ylabel('accuracy')\n",
        "plt.show()"
      ],
      "execution_count": 15,
      "outputs": [
        {
          "output_type": "display_data",
          "data": {
            "image/png": "[encoded data removed]",
            "text/plain": [
              "<Figure size 576x396 with 1 Axes>"
            ]
          },
          "metadata": {
            "tags": []
          }
        }
      ]
    },
    {
      "metadata": {
        "id": "L9ioy_CAU3Uz",
        "colab_type": "code",
        "colab": {
          "base_uri": "https://localhost:8080/",
          "height": 68
        },
        "outputId": "2a583065-bc4f-4b6d-8b5b-884575d9d908"
      },
      "cell_type": "code",
      "source": [
        "# Train the model for k=47\n",
        "model = KNeighborsClassifier(n_neighbors=47)\n",
        "model.fit(x_train, y_train)"
      ],
      "execution_count": 16,
      "outputs": [
        {
          "output_type": "execute_result",
          "data": {
            "text/plain": [
              "KNeighborsClassifier(algorithm='auto', leaf_size=30, metric='minkowski',\n",
              "           metric_params=None, n_jobs=None, n_neighbors=47, p=2,\n",
              "           weights='uniform')"
            ]
          },
          "metadata": {
            "tags": []
          },
          "execution_count": 16
        }
      ]
    },
    {
      "metadata": {
        "id": "KkGiU1slWPDv",
        "colab_type": "code",
        "colab": {
          "base_uri": "https://localhost:8080/",
          "height": 320
        },
        "outputId": "3e1fb6d9-2434-42bb-db7b-4ccad5a90a9b"
      },
      "cell_type": "code",
      "source": [
        "# Before using the model to make the prediction\n",
        "# let's see the first 10 images in test set\n",
        "import matplotlib.pyplot as plt\n",
        "fig = plt.figure(figsize=(10,10))\n",
        "fig = plt.figure()\n",
        "columns = 5\n",
        "rows = 2\n",
        "for i in range(1,columns*rows+1):\n",
        "  img = x_test[i-1].reshape((32,32))\n",
        "  fig.add_subplot(rows,columns,i)\n",
        "  plt.gca().set_title(y_test[i-1])\n",
        "  plt.gca().axis('off')\n",
        "  plt.imshow(img,cmap=\"gray\")\n",
        "plt.show()"
      ],
      "execution_count": 31,
      "outputs": [
        {
          "output_type": "display_data",
          "data": {
            "text/plain": [
              "<Figure size 720x720 with 0 Axes>"
            ]
          },
          "metadata": {
            "tags": []
          }
        },
        {
          "output_type": "display_data",
          "data": {
            "image/png": "[encoded data removed]",
            "text/plain": [
              "<Figure size 576x396 with 10 Axes>"
            ]
          },
          "metadata": {
            "tags": []
          }
        }
      ]
    },
    {
      "metadata": {
        "id": "8hlxDtzGXbKh",
        "colab_type": "code",
        "colab": {}
      },
      "cell_type": "code",
      "source": [
        "# Let's use the model to predict the result\n",
        "# for 3rd and 4th image in test set\n",
        "y_pred = model.predict(x_test[2:4])"
      ],
      "execution_count": 0,
      "outputs": []
    },
    {
      "metadata": {
        "id": "7sqtGO3QWYTm",
        "colab_type": "code",
        "colab": {
          "base_uri": "https://localhost:8080/",
          "height": 51
        },
        "outputId": "55c5ba07-2ca6-4b9e-8952-83ea056f0cd9"
      },
      "cell_type": "code",
      "source": [
        "print(\"3rd Image: Correct - {}; Prediction - {}\".format(y_test[2],y_pred[0]))\n",
        "print(\"4th Image: Correct - {}; Prediction - {}\".format(y_test[3],y_pred[1]))"
      ],
      "execution_count": 40,
      "outputs": [
        {
          "output_type": "stream",
          "text": [
            "3rd Image: Correct - 2; Prediction - 2\n",
            "4th Image: Correct - 9; Prediction - 9\n"
          ],
          "name": "stdout"
        }
      ]
    },
    {
      "metadata": {
        "id": "nyG3ScBEX1aK",
        "colab_type": "code",
        "colab": {}
      },
      "cell_type": "code",
      "source": [
        "# The model performed perfectly on these 2 images\n",
        "# What about images which were not clear enough?\n",
        "# Like image 1 and 2 in test set\n",
        "y_pred = model.predict(x_test[:2])"
      ],
      "execution_count": 0,
      "outputs": []
    },
    {
      "metadata": {
        "id": "EbueNdBLYBQZ",
        "colab_type": "code",
        "colab": {
          "base_uri": "https://localhost:8080/",
          "height": 51
        },
        "outputId": "537ab24a-e4b1-4c9c-80c1-7037db00054f"
      },
      "cell_type": "code",
      "source": [
        "print(\"1st Image: Correct - {}; Prediction - {}\".format(y_test[0],y_pred[0]))\n",
        "print(\"2nd Image: Correct - {}; Prediction - {}\".format(y_test[1],y_pred[1]))"
      ],
      "execution_count": 42,
      "outputs": [
        {
          "output_type": "stream",
          "text": [
            "1st Image: Correct - 1; Prediction - 0\n",
            "2nd Image: Correct - 7; Prediction - 2\n"
          ],
          "name": "stdout"
        }
      ]
    }
  ]
}