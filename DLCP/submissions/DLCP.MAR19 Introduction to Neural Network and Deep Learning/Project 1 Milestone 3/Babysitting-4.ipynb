{
  "nbformat": 4,
  "nbformat_minor": 0,
  "metadata": {
    "colab": {
      "name": "Babysitting.ipynb",
      "version": "0.3.2",
      "provenance": []
    },
    "kernelspec": {
      "name": "python3",
      "display_name": "Python 3"
    }
  },
  "cells": [
    {
      "metadata": {
        "id": "m7avRHNZ1JET",
        "colab_type": "code",
        "colab": {}
      },
      "cell_type": "code",
      "source": [
        "from google.colab import drive\n",
        "drive.mount('/content/drive')"
      ],
      "execution_count": 0,
      "outputs": []
    },
    {
      "metadata": {
        "id": "vDlhx3aOCaZn",
        "colab_type": "text"
      },
      "cell_type": "markdown",
      "source": [
        "### SVHN neural network using Keras\n",
        "\n",
        "### Loading the dataset : Lets us load the training and the test data and check the size of the tensors. Lets us also display the first few images from the training set. (5 points)"
      ]
    },
    {
      "metadata": {
        "id": "cT9-WUyj1KK5",
        "colab_type": "code",
        "outputId": "792467e2-587e-45e0-9f0b-ee62f11b9bfb",
        "colab": {
          "base_uri": "https://localhost:8080/",
          "height": 87
        }
      },
      "cell_type": "code",
      "source": [
        "import h5py\n",
        "import numpy as np\n",
        "import matplotlib.pyplot as plt\n",
        "\n",
        "# Open the file as readonly\n",
        "\n",
        "h5f = h5py.File('/content/drive/My Drive/DLCP/Project-1/Data/SVHN_single_grey1.h5', 'r')\n",
        "\n",
        "\n",
        "# Load the training, test and validation set\n",
        "x_train = h5f['X_train'][:]\n",
        "y_train = h5f['y_train'][:]\n",
        "x_val = h5f['X_test'][:]\n",
        "y_val = h5f['y_test'][:]\n",
        "\n",
        "\n",
        "# Close this file\n",
        "h5f.close()\n",
        "\n",
        "print('Training set', x_train.shape, y_train.shape)\n",
        "print('Test set', x_val.shape, y_val.shape)\n",
        "print(\"\\n\")\n",
        "\n",
        "# Flatten the images for keras model\n",
        "\n",
        "x_train = x_train.reshape(x_train.shape[0], 1024)\n",
        "x_val = x_val.reshape(x_val.shape[0], 1024)\n",
        "\n",
        "# # normalize inputs from 0-255 to 0-1\n",
        "x_train = x_train / 255.0\n",
        "x_val = x_val / 255.0"
      ],
      "execution_count": 3,
      "outputs": [
        {
          "output_type": "stream",
          "text": [
            "Training set (42000, 32, 32) (42000,)\n",
            "Test set (18000, 32, 32) (18000,)\n",
            "\n",
            "\n"
          ],
          "name": "stdout"
        }
      ]
    },
    {
      "metadata": {
        "id": "EZ5ezJ2NLFbP",
        "colab_type": "code",
        "colab": {
          "base_uri": "https://localhost:8080/",
          "height": 34
        },
        "outputId": "3bcb21d6-3623-4a0e-8e43-8f3a8202ffe2"
      },
      "cell_type": "code",
      "source": [
        "from keras.utils import to_categorical"
      ],
      "execution_count": 4,
      "outputs": [
        {
          "output_type": "stream",
          "text": [
            "Using TensorFlow backend.\n"
          ],
          "name": "stderr"
        }
      ]
    },
    {
      "metadata": {
        "id": "gTaaM2az2jgw",
        "colab_type": "code",
        "colab": {}
      },
      "cell_type": "code",
      "source": [
        "num_classes = 10\n",
        "y_train = to_categorical(y_train, num_classes=num_classes)\n",
        "y_val = to_categorical(y_val, num_classes=num_classes)"
      ],
      "execution_count": 0,
      "outputs": []
    },
    {
      "metadata": {
        "id": "oxTufIo_2xgW",
        "colab_type": "code",
        "colab": {
          "base_uri": "https://localhost:8080/",
          "height": 34
        },
        "outputId": "748b4487-7521-446b-faf2-259b9e970ab0"
      },
      "cell_type": "code",
      "source": [
        "print(\"('Training set', {}, {})('Test set', {}, {})\".format(x_train.shape, y_train.shape, x_val.shape, y_val.shape))"
      ],
      "execution_count": 6,
      "outputs": [
        {
          "output_type": "stream",
          "text": [
            "('Training set', (42000, 1024), (42000, 10))('Test set', (18000, 1024), (18000, 10))\n"
          ],
          "name": "stdout"
        }
      ]
    },
    {
      "metadata": {
        "id": "0AGnOXUyMTxO",
        "colab_type": "code",
        "colab": {
          "base_uri": "https://localhost:8080/",
          "height": 111
        },
        "outputId": "5288a0d9-ff14-4c36-96db-72d6170b91e7"
      },
      "cell_type": "code",
      "source": [
        "# visualizing the first 10 images in the dataset and their labels\n",
        "%matplotlib inline\n",
        "import matplotlib.pyplot as plt\n",
        "plt.figure(figsize=(10, 1))\n",
        "for i in range(10):\n",
        "    plt.subplot(1, 10, i+1)\n",
        "    plt.imshow(x_train[i].reshape(32, 32), cmap=\"gray\")\n",
        "    plt.title(\"{}\".format(list(y_train[i]).index(max(y_train[i]))))\n",
        "    plt.axis('off')\n",
        "plt.show()\n",
        "# print('label for each of the above image: %s' % (y_train[0:10]))"
      ],
      "execution_count": 21,
      "outputs": [
        {
          "output_type": "display_data",
          "data": {
            "image/png": "[encoded data removed]",
            "text/plain": [
              "<Figure size 720x72 with 10 Axes>"
            ]
          },
          "metadata": {
            "tags": []
          }
        }
      ]
    },
    {
      "metadata": {
        "id": "6hz4OntICsJ_",
        "colab_type": "text"
      },
      "cell_type": "markdown",
      "source": [
        "###Build the Neural Network Model in Keras (10 Points)"
      ]
    },
    {
      "metadata": {
        "id": "rZVmyyRDMf43",
        "colab_type": "code",
        "colab": {}
      },
      "cell_type": "code",
      "source": [
        "# Import all the that you need\n",
        "import keras\n",
        "from keras.models import Sequential\n",
        "from keras.layers import Dense, Activation\n",
        "from keras.optimizers import SGD\n",
        "from keras import regularizers\n",
        "\n",
        "#define the train and test loops and return score\n",
        "def train_and_test_loop(iterations, lr, Lambda, verb=True):\n",
        "    ## Define hyperparameters\n",
        "    iterations = iterations\n",
        "    learning_rate = lr\n",
        "    hidden_nodes = 32\n",
        "    output_nodes = 10\n",
        "   \n",
        "    # Build the building blocks : Hidden layers, output layers, activation functions, optimizers\n",
        "    model = Sequential()\n",
        "    model.add(Dense(32, input_shape=(1024, ), \n",
        "              kernel_regularizer=regularizers.l2(Lambda), \n",
        "              activity_regularizer=regularizers.l1(Lambda)))\n",
        "    model.add(Activation('relu'))\n",
        "    model.add(Dense(10, input_shape=(1024, ), \n",
        "              kernel_regularizer=regularizers.l2(Lambda), \n",
        "              activity_regularizer=regularizers.l1(Lambda)))\n",
        "    model.add(Activation('softmax'))\n",
        "    \n",
        "    sgd = SGD(lr=learning_rate, decay=1e-6, momentum=0.9, nesterov=True)\n",
        "    # Compile the model\n",
        "    model.compile(optimizer=sgd, loss='categorical_crossentropy', metrics=['accuracy'])\n",
        "    \n",
        "    # Fit the model\n",
        "    model.fit(x_train, y_train, epochs=iterations, batch_size=32)\n",
        "    \n",
        "    \n",
        "def train_and_test_loop1(iterations, lr, Lambda, verb=True):\n",
        "    ## hyperparameters\n",
        "    iterations = iterations\n",
        "    learning_rate = lr\n",
        "    hidden_nodes = 32\n",
        "    output_nodes = 10\n",
        "\n",
        "    #Build the building blocks : Hidden layers, output layers, activation functions, optimizers\n",
        "    model = Sequential()\n",
        "    model.add(Dense(32, input_shape=(1024, ), \n",
        "              kernel_regularizer=regularizers.l2(Lambda), \n",
        "              activity_regularizer=regularizers.l1(Lambda)))\n",
        "    model.add(Activation('relu'))\n",
        "    model.add(Dense(10, input_shape=(1024, ), \n",
        "              kernel_regularizer=regularizers.l2(Lambda), \n",
        "              activity_regularizer=regularizers.l1(Lambda)))\n",
        "    model.add(Activation('softmax'))\n",
        "    \n",
        "    sgd = SGD(lr=learning_rate)\n",
        "    \n",
        "    # Compile the model\n",
        "    model.compile(optimizer=sgd, loss='categorical_crossentropy', metrics=['accuracy'])\n",
        "    \n",
        "    # Fit the model\n",
        "    model.fit(x_train, y_train, epochs=iterations, batch_size=32)\n",
        "    \n",
        "    # Calculate score and return score\n",
        "    score = model.evaluate(x_val, y_val, batch_size=16)\n",
        "    return score"
      ],
      "execution_count": 0,
      "outputs": []
    },
    {
      "metadata": {
        "id": "3Dv-3QYLC5y1",
        "colab_type": "text"
      },
      "cell_type": "markdown",
      "source": [
        "### Babysitting the learning process. Complete all the steps below to optimize your model (15 points)\n",
        "\n",
        "### Step 1: Double Check that the loss is reasonable : Disable the regularization"
      ]
    },
    {
      "metadata": {
        "id": "Cxt4s0BlvfZF",
        "colab_type": "code",
        "colab": {
          "base_uri": "https://localhost:8080/",
          "height": 52
        },
        "outputId": "4e5a2bf1-202c-491f-b779-114efa9870a3"
      },
      "cell_type": "code",
      "source": [
        "lr = 0.001\n",
        "Lambda = 0\n",
        "score = train_and_test_loop(1, lr, Lambda)"
      ],
      "execution_count": 10,
      "outputs": [
        {
          "output_type": "stream",
          "text": [
            "Epoch 1/1\n",
            "42000/42000 [==============================] - 2s 53us/step - loss: 2.2898 - acc: 0.1315\n"
          ],
          "name": "stdout"
        }
      ]
    },
    {
      "metadata": {
        "id": "5ReSEPL_DCKT",
        "colab_type": "text"
      },
      "cell_type": "markdown",
      "source": [
        "### Step 2: Now, lets crank up the Lambda(Regularization)and check what it does to our loss function."
      ]
    },
    {
      "metadata": {
        "id": "knx4KCTS4UM1",
        "colab_type": "code",
        "colab": {
          "base_uri": "https://localhost:8080/",
          "height": 52
        },
        "outputId": "cd39bc48-9f39-4b2b-d1aa-9464af31c9b6"
      },
      "cell_type": "code",
      "source": [
        "lr = 0.001\n",
        "Lambda = 0.01\n",
        "score = train_and_test_loop(1, lr, Lambda)"
      ],
      "execution_count": 11,
      "outputs": [
        {
          "output_type": "stream",
          "text": [
            "Epoch 1/1\n",
            "42000/42000 [==============================] - 2s 58us/step - loss: 3.5689 - acc: 0.1026\n"
          ],
          "name": "stdout"
        }
      ]
    },
    {
      "metadata": {
        "id": "LHYoGZGmDF5b",
        "colab_type": "text"
      },
      "cell_type": "markdown",
      "source": [
        "### Step 3: Now, lets overfit to a small subset of our dataset, in this case 20 images."
      ]
    },
    {
      "metadata": {
        "id": "Q61TGHXWeULH",
        "colab_type": "code",
        "colab": {}
      },
      "cell_type": "code",
      "source": [
        "x_train_subset = x_train[0:20]\n",
        "y_train_subset = y_train[0:20]\n"
      ],
      "execution_count": 0,
      "outputs": []
    },
    {
      "metadata": {
        "id": "f9R2eu0Bv9Fp",
        "colab_type": "code",
        "colab": {}
      },
      "cell_type": "code",
      "source": [
        "x_train = x_train_subset\n",
        "y_train = y_train_subset"
      ],
      "execution_count": 0,
      "outputs": []
    },
    {
      "metadata": {
        "id": "Mc0OlNy4v_nQ",
        "colab_type": "code",
        "colab": {
          "base_uri": "https://localhost:8080/",
          "height": 34
        },
        "outputId": "0efaa8fd-fe90-4916-9fa6-3c493df67b17"
      },
      "cell_type": "code",
      "source": [
        "x_train.shape"
      ],
      "execution_count": 14,
      "outputs": [
        {
          "output_type": "execute_result",
          "data": {
            "text/plain": [
              "(20, 1024)"
            ]
          },
          "metadata": {
            "tags": []
          },
          "execution_count": 14
        }
      ]
    },
    {
      "metadata": {
        "id": "hoKGf3EYwATC",
        "colab_type": "code",
        "colab": {
          "base_uri": "https://localhost:8080/",
          "height": 34
        },
        "outputId": "b68cc3bd-4da6-490a-c5f5-f5567b5153e1"
      },
      "cell_type": "code",
      "source": [
        "y_train.shape"
      ],
      "execution_count": 15,
      "outputs": [
        {
          "output_type": "execute_result",
          "data": {
            "text/plain": [
              "(20, 10)"
            ]
          },
          "metadata": {
            "tags": []
          },
          "execution_count": 15
        }
      ]
    },
    {
      "metadata": {
        "id": "a4Kgf2D5DMw_",
        "colab_type": "text"
      },
      "cell_type": "markdown",
      "source": [
        "### Tip: Make sure that you can overfit very small portion of the training data\n",
        "So, set a small learning rate and turn regularization off\n",
        "\n",
        "In the code below:\n",
        "- Take the first 20 examples from SVHN\n",
        "- turn off regularization(reg=0.0)\n",
        "- use simple vanilla 'sgd'"
      ]
    },
    {
      "metadata": {
        "id": "PIC9ygUywBOF",
        "colab_type": "code",
        "colab": {
          "base_uri": "https://localhost:8080/",
          "height": 2150
        },
        "outputId": "cc22c12b-6f5b-4a7d-9a11-f83b6e2137fa"
      },
      "cell_type": "code",
      "source": [
        "lr = 0.01\n",
        "Lambda = 0.0\n",
        "train_and_test_loop(60, lr, Lambda)"
      ],
      "execution_count": 16,
      "outputs": [
        {
          "output_type": "stream",
          "text": [
            "Epoch 1/60\n",
            "20/20 [==============================] - 0s 11ms/step - loss: 2.2753 - acc: 0.1000\n",
            "Epoch 2/60\n",
            "20/20 [==============================] - 0s 245us/step - loss: 2.0999 - acc: 0.3000\n",
            "Epoch 3/60\n",
            "20/20 [==============================] - 0s 220us/step - loss: 1.9871 - acc: 0.2500\n",
            "Epoch 4/60\n",
            "20/20 [==============================] - 0s 230us/step - loss: 1.9048 - acc: 0.2500\n",
            "Epoch 5/60\n",
            "20/20 [==============================] - 0s 104us/step - loss: 1.8382 - acc: 0.3000\n",
            "Epoch 6/60\n",
            "20/20 [==============================] - 0s 114us/step - loss: 1.7787 - acc: 0.3000\n",
            "Epoch 7/60\n",
            "20/20 [==============================] - 0s 104us/step - loss: 1.7270 - acc: 0.4000\n",
            "Epoch 8/60\n",
            "20/20 [==============================] - 0s 152us/step - loss: 1.6716 - acc: 0.4500\n",
            "Epoch 9/60\n",
            "20/20 [==============================] - 0s 126us/step - loss: 1.6156 - acc: 0.5000\n",
            "Epoch 10/60\n",
            "20/20 [==============================] - 0s 131us/step - loss: 1.5697 - acc: 0.5500\n",
            "Epoch 11/60\n",
            "20/20 [==============================] - 0s 197us/step - loss: 1.5247 - acc: 0.5000\n",
            "Epoch 12/60\n",
            "20/20 [==============================] - 0s 145us/step - loss: 1.4756 - acc: 0.5500\n",
            "Epoch 13/60\n",
            "20/20 [==============================] - 0s 114us/step - loss: 1.4309 - acc: 0.5000\n",
            "Epoch 14/60\n",
            "20/20 [==============================] - 0s 88us/step - loss: 1.3878 - acc: 0.6000\n",
            "Epoch 15/60\n",
            "20/20 [==============================] - 0s 92us/step - loss: 1.3397 - acc: 0.6500\n",
            "Epoch 16/60\n",
            "20/20 [==============================] - 0s 85us/step - loss: 1.2932 - acc: 0.6500\n",
            "Epoch 17/60\n",
            "20/20 [==============================] - 0s 116us/step - loss: 1.2473 - acc: 0.6500\n",
            "Epoch 18/60\n",
            "20/20 [==============================] - 0s 101us/step - loss: 1.2028 - acc: 0.7500\n",
            "Epoch 19/60\n",
            "20/20 [==============================] - 0s 115us/step - loss: 1.1613 - acc: 0.7500\n",
            "Epoch 20/60\n",
            "20/20 [==============================] - 0s 125us/step - loss: 1.1193 - acc: 0.7000\n",
            "Epoch 21/60\n",
            "20/20 [==============================] - 0s 118us/step - loss: 1.0779 - acc: 0.7500\n",
            "Epoch 22/60\n",
            "20/20 [==============================] - 0s 132us/step - loss: 1.0374 - acc: 0.7500\n",
            "Epoch 23/60\n",
            "20/20 [==============================] - 0s 122us/step - loss: 0.9995 - acc: 0.7500\n",
            "Epoch 24/60\n",
            "20/20 [==============================] - 0s 107us/step - loss: 0.9609 - acc: 0.7500\n",
            "Epoch 25/60\n",
            "20/20 [==============================] - 0s 104us/step - loss: 0.9262 - acc: 0.8000\n",
            "Epoch 26/60\n",
            "20/20 [==============================] - 0s 127us/step - loss: 0.8928 - acc: 0.8500\n",
            "Epoch 27/60\n",
            "20/20 [==============================] - 0s 104us/step - loss: 0.8589 - acc: 0.9000\n",
            "Epoch 28/60\n",
            "20/20 [==============================] - 0s 127us/step - loss: 0.8266 - acc: 0.9000\n",
            "Epoch 29/60\n",
            "20/20 [==============================] - 0s 137us/step - loss: 0.7942 - acc: 0.9000\n",
            "Epoch 30/60\n",
            "20/20 [==============================] - 0s 108us/step - loss: 0.7639 - acc: 0.9000\n",
            "Epoch 31/60\n",
            "20/20 [==============================] - 0s 125us/step - loss: 0.7339 - acc: 0.9000\n",
            "Epoch 32/60\n",
            "20/20 [==============================] - 0s 116us/step - loss: 0.7065 - acc: 0.9000\n",
            "Epoch 33/60\n",
            "20/20 [==============================] - 0s 115us/step - loss: 0.6791 - acc: 0.9000\n",
            "Epoch 34/60\n",
            "20/20 [==============================] - 0s 119us/step - loss: 0.6532 - acc: 0.9500\n",
            "Epoch 35/60\n",
            "20/20 [==============================] - 0s 100us/step - loss: 0.6275 - acc: 0.9500\n",
            "Epoch 36/60\n",
            "20/20 [==============================] - 0s 102us/step - loss: 0.6041 - acc: 0.9500\n",
            "Epoch 37/60\n",
            "20/20 [==============================] - 0s 101us/step - loss: 0.5798 - acc: 1.0000\n",
            "Epoch 38/60\n",
            "20/20 [==============================] - 0s 120us/step - loss: 0.5571 - acc: 1.0000\n",
            "Epoch 39/60\n",
            "20/20 [==============================] - 0s 118us/step - loss: 0.5355 - acc: 1.0000\n",
            "Epoch 40/60\n",
            "20/20 [==============================] - 0s 100us/step - loss: 0.5142 - acc: 1.0000\n",
            "Epoch 41/60\n",
            "20/20 [==============================] - 0s 411us/step - loss: 0.4940 - acc: 1.0000\n",
            "Epoch 42/60\n",
            "20/20 [==============================] - 0s 179us/step - loss: 0.4745 - acc: 1.0000\n",
            "Epoch 43/60\n",
            "20/20 [==============================] - 0s 116us/step - loss: 0.4556 - acc: 1.0000\n",
            "Epoch 44/60\n",
            "20/20 [==============================] - 0s 122us/step - loss: 0.4373 - acc: 1.0000\n",
            "Epoch 45/60\n",
            "20/20 [==============================] - 0s 143us/step - loss: 0.4196 - acc: 1.0000\n",
            "Epoch 46/60\n",
            "20/20 [==============================] - 0s 147us/step - loss: 0.4038 - acc: 1.0000\n",
            "Epoch 47/60\n",
            "20/20 [==============================] - 0s 117us/step - loss: 0.3875 - acc: 1.0000\n",
            "Epoch 48/60\n",
            "20/20 [==============================] - 0s 107us/step - loss: 0.3719 - acc: 1.0000\n",
            "Epoch 49/60\n",
            "20/20 [==============================] - 0s 112us/step - loss: 0.3576 - acc: 1.0000\n",
            "Epoch 50/60\n",
            "20/20 [==============================] - 0s 107us/step - loss: 0.3435 - acc: 1.0000\n",
            "Epoch 51/60\n",
            "20/20 [==============================] - 0s 145us/step - loss: 0.3298 - acc: 1.0000\n",
            "Epoch 52/60\n",
            "20/20 [==============================] - 0s 143us/step - loss: 0.3173 - acc: 1.0000\n",
            "Epoch 53/60\n",
            "20/20 [==============================] - 0s 120us/step - loss: 0.3051 - acc: 1.0000\n",
            "Epoch 54/60\n",
            "20/20 [==============================] - 0s 102us/step - loss: 0.2932 - acc: 1.0000\n",
            "Epoch 55/60\n",
            "20/20 [==============================] - 0s 107us/step - loss: 0.2822 - acc: 1.0000\n",
            "Epoch 56/60\n",
            "20/20 [==============================] - 0s 99us/step - loss: 0.2715 - acc: 1.0000\n",
            "Epoch 57/60\n",
            "20/20 [==============================] - 0s 115us/step - loss: 0.2612 - acc: 1.0000\n",
            "Epoch 58/60\n",
            "20/20 [==============================] - 0s 134us/step - loss: 0.2518 - acc: 1.0000\n",
            "Epoch 59/60\n",
            "20/20 [==============================] - 0s 102us/step - loss: 0.2423 - acc: 1.0000\n",
            "Epoch 60/60\n",
            "20/20 [==============================] - 0s 106us/step - loss: 0.2335 - acc: 1.0000\n"
          ],
          "name": "stdout"
        }
      ]
    },
    {
      "metadata": {
        "id": "FsCjEokbDQMH",
        "colab_type": "text"
      },
      "cell_type": "markdown",
      "source": [
        "### Loading the original dataset again"
      ]
    },
    {
      "metadata": {
        "id": "7uOtj9_EwOAt",
        "colab_type": "code",
        "colab": {
          "base_uri": "https://localhost:8080/",
          "height": 105
        },
        "outputId": "6bcabe6b-9593-4eb7-a3d3-0b1b43bfc83f"
      },
      "cell_type": "code",
      "source": [
        "import h5py\n",
        "import numpy as np\n",
        "import matplotlib.pyplot as plt\n",
        "\n",
        "# Open the file as readonly\n",
        "\n",
        "h5f = h5py.File('/content/drive/My Drive/DLCP/Project-1/Data/SVHN_single_grey1.h5', 'r')\n",
        "\n",
        "\n",
        "# Load the training, test and validation set\n",
        "x_train = h5f['X_train'][:]\n",
        "y_train = h5f['y_train'][:]\n",
        "x_val = h5f['X_test'][:]\n",
        "y_val = h5f['y_test'][:]\n",
        "\n",
        "\n",
        "# Close this file\n",
        "h5f.close()\n",
        "\n",
        "print('Training set', x_train.shape, y_train.shape)\n",
        "print('Test set', x_val.shape, y_val.shape)\n",
        "print(\"\\n\")\n",
        "\n",
        "# Flatten the images for keras model\n",
        "\n",
        "x_train = x_train.reshape(x_train.shape[0], 1024)\n",
        "x_val = x_val.reshape(x_val.shape[0], 1024)\n",
        "\n",
        "# # normalize inputs from 0-255 to 0-1\n",
        "x_train = x_train / 255.0\n",
        "x_val = x_val / 255.0\n",
        "\n",
        "num_classes = 10\n",
        "y_train = to_categorical(y_train, num_classes=num_classes)\n",
        "y_val = to_categorical(y_val, num_classes=num_classes)\n",
        "\n",
        "print(\"('Training set', {}, {})('Test set', {}, {})\".format(x_train.shape, y_train.shape, x_val.shape, y_val.shape))"
      ],
      "execution_count": 17,
      "outputs": [
        {
          "output_type": "stream",
          "text": [
            "Training set (42000, 32, 32) (42000,)\n",
            "Test set (18000, 32, 32) (18000,)\n",
            "\n",
            "\n",
            "('Training set', (42000, 1024), (42000, 10))('Test set', (18000, 1024), (18000, 10))\n"
          ],
          "name": "stdout"
        }
      ]
    },
    {
      "metadata": {
        "id": "p0ScWlVBDVMD",
        "colab_type": "text"
      },
      "cell_type": "markdown",
      "source": [
        "###Step 4: Start with small regularization and find learning rate that makes the loss go down.\n",
        "\n",
        "- we start with Lambda(small regularization) = 1e-7\n",
        "- we start with a small learning rate =1e-7"
      ]
    },
    {
      "metadata": {
        "id": "H-6toRKs1esg",
        "colab_type": "code",
        "colab": {
          "base_uri": "https://localhost:8080/",
          "height": 52
        },
        "outputId": "528bfc74-528c-4606-f3d3-80cce00f90b6"
      },
      "cell_type": "code",
      "source": [
        "#set the hyperparameters according to the above instructions\n",
        "lr = 1e-3 # 1e-7 2.3x to 2.28 for 1e-3, for 1e-2 not less than 1e-3\n",
        "Lambda = 1e-7\n",
        "#call the train and test function\n",
        "train_and_test_loop(1, lr, Lambda)"
      ],
      "execution_count": 102,
      "outputs": [
        {
          "output_type": "stream",
          "text": [
            "Epoch 1/1\n",
            "42000/42000 [==============================] - 5s 130us/step - loss: 2.2821 - acc: 0.1442\n"
          ],
          "name": "stdout"
        }
      ]
    },
    {
      "metadata": {
        "id": "VVnMDmhuDYMl",
        "colab_type": "text"
      },
      "cell_type": "markdown",
      "source": [
        "### Step 5: Okay now lets try a (larger) learning rate . What could possibly go wrong?\n",
        "\n",
        "- Learning rate lr  \n",
        "- Regularization lambda \n"
      ]
    },
    {
      "metadata": {
        "id": "alrW8Cy81ol7",
        "colab_type": "code",
        "colab": {
          "base_uri": "https://localhost:8080/",
          "height": 158
        },
        "outputId": "cb31f29a-ed62-41a4-e4d2-7a48a6b4b9f6"
      },
      "cell_type": "code",
      "source": [
        "#Set Hyperparameters( High value for lr and low values for lambda)\n",
        "lr_list = [1e-1, 1e-2, 1e-3, 1e-4]\n",
        "lambda_list = [1e-8, 1e-7, 1e-6, 1e-5]\n",
        "for lr in lr_list:\n",
        "  Lambda = lambda_list[0]\n",
        "  print(\"Lambda: {:.8f}, LR: {:.4f}\".format(Lambda, lr), end='\\t')\n",
        "  train_and_test_loop(1, lr, Lambda)\n",
        "# Call the train and test function"
      ],
      "execution_count": 106,
      "outputs": [
        {
          "output_type": "stream",
          "text": [
            "Lambda: 0.00000001, LR: 0.1000\tEpoch 1/1\n",
            "42000/42000 [==============================] - 6s 154us/step - loss: 2.3101 - acc: 0.1014\n",
            "Lambda: 0.00000001, LR: 0.0100\tEpoch 1/1\n",
            "42000/42000 [==============================] - 6s 142us/step - loss: 2.3040 - acc: 0.0998\n",
            "Lambda: 0.00000001, LR: 0.0010\tEpoch 1/1\n",
            "42000/42000 [==============================] - 6s 148us/step - loss: 2.2875 - acc: 0.1321\n",
            "Lambda: 0.00000001, LR: 0.0001\tEpoch 1/1\n",
            "42000/42000 [==============================] - 7s 162us/step - loss: 2.3121 - acc: 0.1151\n"
          ],
          "name": "stdout"
        }
      ]
    },
    {
      "metadata": {
        "id": "eUDdy35SDan1",
        "colab_type": "text"
      },
      "cell_type": "markdown",
      "source": [
        "## Documentation\n",
        "\n",
        "Set Hyperparameters( High value for lr and low values for lambda)\n",
        "\n",
        "Using lambda values and learning rate values, and running through the loops, we get following observations:\n",
        "\n",
        "* Generally Learning Rate: `1e-3` is a good starting point to compare results. \n",
        "\n",
        "* Increasing Learning Rate increases the loss since it might miss the global minima in the race of finding local minima.\n",
        "\n",
        "* Too small LR generally makes the process slower. (For example for 1e-4 it took 7 seconds, compared to other LRs)\n",
        "\n",
        "### Hyperparameter Optimization\n",
        "\n",
        "### Cross validation Strategy\n",
        "\n",
        "\n",
        "- Do coarse -> fine cross-validation in stages\n",
        "\n",
        "- First stage: only a few epochs to get rough idea of what params work\n",
        "- Second stage: longer running time, finer search\n",
        "- … (repeat as necessary)\n",
        "\n",
        "### Tip for detecting explosions in the solver: \n",
        "- If the cost is ever > 3 * original cost, break out early\n"
      ]
    },
    {
      "metadata": {
        "id": "2K2fWgh75fgm",
        "colab_type": "code",
        "colab": {
          "base_uri": "https://localhost:8080/",
          "height": 7785
        },
        "outputId": "c55de328-4756-45b3-f54c-9e151d8e4a52"
      },
      "cell_type": "code",
      "source": [
        "import math\n",
        "for k in range(1,20):\n",
        "    lr = math.pow(10, np.random.uniform(-7.0, 4.0))\n",
        "    Lambda = math.pow(3, np.random.uniform(-5,5))\n",
        "    best_acc = train_and_test_loop1(10, lr, Lambda)\n",
        "    print(\"Try {0}/{1}: Best_val_acc: {2}, lr: {3}, Lambda: {4}\\n\".format(k, 100, best_acc[1], lr, Lambda))"
      ],
      "execution_count": 21,
      "outputs": [
        {
          "output_type": "stream",
          "text": [
            "Epoch 1/10\n",
            "42000/42000 [==============================] - 5s 115us/step - loss: 54417.4619 - acc: 0.1007\n",
            "Epoch 2/10\n",
            "42000/42000 [==============================] - 3s 63us/step - loss: 30330.2510 - acc: 0.1005\n",
            "Epoch 3/10\n",
            "42000/42000 [==============================] - 3s 63us/step - loss: 30029.4003 - acc: 0.0987\n",
            "Epoch 4/10\n",
            "42000/42000 [==============================] - 3s 63us/step - loss: 32973.1609 - acc: 0.0986\n",
            "Epoch 5/10\n",
            "42000/42000 [==============================] - 3s 63us/step - loss: 29394.7007 - acc: 0.1003\n",
            "Epoch 6/10\n",
            "42000/42000 [==============================] - 3s 64us/step - loss: 25957.5301 - acc: 0.0992\n",
            "Epoch 7/10\n",
            "42000/42000 [==============================] - 3s 63us/step - loss: 28184.9484 - acc: 0.1005\n",
            "Epoch 8/10\n",
            "42000/42000 [==============================] - 3s 63us/step - loss: 26256.2947 - acc: 0.1010\n",
            "Epoch 9/10\n",
            "42000/42000 [==============================] - 3s 63us/step - loss: 50813.3300 - acc: 0.0997\n",
            "Epoch 10/10\n",
            "42000/42000 [==============================] - 3s 62us/step - loss: 22963.9585 - acc: 0.0995\n",
            "18000/18000 [==============================] - 2s 123us/step\n",
            "Try 1/100: Best_val_acc: 0.09644444444444444, lr: 0.12340030878155088, Lambda: 0.023590440671911263\n",
            "\n",
            "Epoch 1/10\n",
            "42000/42000 [==============================] - 5s 115us/step - loss: 24.8734 - acc: 0.1077\n",
            "Epoch 2/10\n",
            "42000/42000 [==============================] - 3s 62us/step - loss: 19.7726 - acc: 0.1050\n",
            "Epoch 3/10\n",
            "42000/42000 [==============================] - 3s 63us/step - loss: 17.6638 - acc: 0.1027\n",
            "Epoch 4/10\n",
            "42000/42000 [==============================] - 3s 63us/step - loss: 16.2366 - acc: 0.1020\n",
            "Epoch 5/10\n",
            "42000/42000 [==============================] - 3s 62us/step - loss: 15.1586 - acc: 0.1016\n",
            "Epoch 6/10\n",
            "42000/42000 [==============================] - 3s 62us/step - loss: 14.3011 - acc: 0.1017\n",
            "Epoch 7/10\n",
            "42000/42000 [==============================] - 3s 62us/step - loss: 13.6018 - acc: 0.1010\n",
            "Epoch 8/10\n",
            "42000/42000 [==============================] - 3s 64us/step - loss: 13.0160 - acc: 0.1011\n",
            "Epoch 9/10\n",
            "42000/42000 [==============================] - 3s 62us/step - loss: 12.5102 - acc: 0.1024\n",
            "Epoch 10/10\n",
            "42000/42000 [==============================] - 3s 62us/step - loss: 12.0645 - acc: 0.1008\n",
            "18000/18000 [==============================] - 2s 123us/step\n",
            "Try 2/100: Best_val_acc: 0.1015, lr: 3.7672921993450094e-05, Lambda: 0.11112882690967721\n",
            "\n",
            "Epoch 1/10\n",
            "42000/42000 [==============================] - 5s 116us/step - loss: nan - acc: 0.0998\n",
            "Epoch 2/10\n",
            "42000/42000 [==============================] - 3s 65us/step - loss: nan - acc: 0.0997\n",
            "Epoch 3/10\n",
            "42000/42000 [==============================] - 3s 64us/step - loss: nan - acc: 0.0997\n",
            "Epoch 4/10\n",
            "42000/42000 [==============================] - 3s 63us/step - loss: nan - acc: 0.0997\n",
            "Epoch 5/10\n",
            "42000/42000 [==============================] - 3s 62us/step - loss: nan - acc: 0.0997\n",
            "Epoch 6/10\n",
            "42000/42000 [==============================] - 3s 62us/step - loss: nan - acc: 0.0997\n",
            "Epoch 7/10\n",
            "42000/42000 [==============================] - 3s 63us/step - loss: nan - acc: 0.0997\n",
            "Epoch 8/10\n",
            "42000/42000 [==============================] - 3s 62us/step - loss: nan - acc: 0.0997\n",
            "Epoch 9/10\n",
            "42000/42000 [==============================] - 3s 62us/step - loss: nan - acc: 0.0997\n",
            "Epoch 10/10\n",
            "42000/42000 [==============================] - 3s 63us/step - loss: nan - acc: 0.0997\n",
            "18000/18000 [==============================] - 2s 125us/step\n",
            "Try 3/100: Best_val_acc: 0.10077777777777777, lr: 459.38972357124874, Lambda: 0.015409197673682961\n",
            "\n",
            "Epoch 1/10\n",
            "42000/42000 [==============================] - 5s 116us/step - loss: nan - acc: 0.0996\n",
            "Epoch 2/10\n",
            "42000/42000 [==============================] - 3s 63us/step - loss: nan - acc: 0.0997\n",
            "Epoch 3/10\n",
            "42000/42000 [==============================] - 3s 63us/step - loss: nan - acc: 0.0997\n",
            "Epoch 4/10\n",
            "42000/42000 [==============================] - 3s 63us/step - loss: nan - acc: 0.0997\n",
            "Epoch 5/10\n",
            "42000/42000 [==============================] - 3s 63us/step - loss: nan - acc: 0.0997\n",
            "Epoch 6/10\n",
            "42000/42000 [==============================] - 3s 63us/step - loss: nan - acc: 0.0997\n",
            "Epoch 7/10\n",
            "42000/42000 [==============================] - 3s 63us/step - loss: nan - acc: 0.0997\n",
            "Epoch 8/10\n",
            "42000/42000 [==============================] - 3s 63us/step - loss: nan - acc: 0.0997\n",
            "Epoch 9/10\n",
            "42000/42000 [==============================] - 3s 63us/step - loss: nan - acc: 0.0997\n",
            "Epoch 10/10\n",
            "42000/42000 [==============================] - 3s 62us/step - loss: nan - acc: 0.0997\n",
            "18000/18000 [==============================] - 2s 126us/step\n",
            "Try 4/100: Best_val_acc: 0.10077777777777777, lr: 1.696241659122205, Lambda: 8.164957072802013\n",
            "\n",
            "Epoch 1/10\n",
            "42000/42000 [==============================] - 5s 117us/step - loss: 7.1263 - acc: 0.1025\n",
            "Epoch 2/10\n",
            "42000/42000 [==============================] - 3s 63us/step - loss: 6.5959 - acc: 0.0999\n",
            "Epoch 3/10\n",
            "42000/42000 [==============================] - 3s 63us/step - loss: 6.5208 - acc: 0.0992\n",
            "Epoch 4/10\n",
            "42000/42000 [==============================] - 3s 63us/step - loss: 6.5191 - acc: 0.1009\n",
            "Epoch 5/10\n",
            "42000/42000 [==============================] - 3s 63us/step - loss: 6.4973 - acc: 0.0991\n",
            "Epoch 6/10\n",
            "42000/42000 [==============================] - 3s 62us/step - loss: 6.4963 - acc: 0.0993\n",
            "Epoch 7/10\n",
            "42000/42000 [==============================] - 3s 62us/step - loss: 6.4995 - acc: 0.1005\n",
            "Epoch 8/10\n",
            "42000/42000 [==============================] - 3s 62us/step - loss: 6.4936 - acc: 0.0989\n",
            "Epoch 9/10\n",
            "42000/42000 [==============================] - 3s 62us/step - loss: 6.4883 - acc: 0.0988\n",
            "Epoch 10/10\n",
            "42000/42000 [==============================] - 3s 63us/step - loss: 6.4891 - acc: 0.0995\n",
            "18000/18000 [==============================] - 2s 126us/step\n",
            "Try 5/100: Best_val_acc: 0.10044444444444445, lr: 0.026317409823372457, Lambda: 0.006952274899772121\n",
            "\n",
            "Epoch 1/10\n",
            "42000/42000 [==============================] - 5s 119us/step - loss: nan - acc: 0.0996\n",
            "Epoch 2/10\n",
            "42000/42000 [==============================] - 3s 63us/step - loss: nan - acc: 0.0997\n",
            "Epoch 3/10\n",
            "42000/42000 [==============================] - 3s 63us/step - loss: nan - acc: 0.0997\n",
            "Epoch 4/10\n",
            "42000/42000 [==============================] - 3s 63us/step - loss: nan - acc: 0.0997\n",
            "Epoch 5/10\n",
            "42000/42000 [==============================] - 3s 63us/step - loss: nan - acc: 0.0997\n",
            "Epoch 6/10\n",
            "42000/42000 [==============================] - 3s 63us/step - loss: nan - acc: 0.0997\n",
            "Epoch 7/10\n",
            "42000/42000 [==============================] - 3s 64us/step - loss: nan - acc: 0.0997\n",
            "Epoch 8/10\n",
            "42000/42000 [==============================] - 3s 63us/step - loss: nan - acc: 0.0997\n",
            "Epoch 9/10\n",
            "42000/42000 [==============================] - 3s 64us/step - loss: nan - acc: 0.0997\n",
            "Epoch 10/10\n",
            "42000/42000 [==============================] - 3s 64us/step - loss: nan - acc: 0.0997\n",
            "18000/18000 [==============================] - 2s 129us/step\n",
            "Try 6/100: Best_val_acc: 0.10077777777777777, lr: 222.69234795999753, Lambda: 0.39993764293091205\n",
            "\n",
            "Epoch 1/10\n",
            "42000/42000 [==============================] - 5s 120us/step - loss: 11.3386 - acc: 0.1017\n",
            "Epoch 2/10\n",
            "42000/42000 [==============================] - 3s 64us/step - loss: 8.1792 - acc: 0.1078\n",
            "Epoch 3/10\n",
            "42000/42000 [==============================] - 3s 63us/step - loss: 8.0881 - acc: 0.1080\n",
            "Epoch 4/10\n",
            "42000/42000 [==============================] - 3s 63us/step - loss: 8.0044 - acc: 0.1071\n",
            "Epoch 5/10\n",
            "42000/42000 [==============================] - 3s 63us/step - loss: 7.9249 - acc: 0.1079\n",
            "Epoch 6/10\n",
            "42000/42000 [==============================] - 3s 63us/step - loss: 7.8492 - acc: 0.1074\n",
            "Epoch 7/10\n",
            "42000/42000 [==============================] - 3s 63us/step - loss: 7.7771 - acc: 0.1068\n",
            "Epoch 8/10\n",
            "42000/42000 [==============================] - 3s 64us/step - loss: 7.7087 - acc: 0.1062\n",
            "Epoch 9/10\n",
            "42000/42000 [==============================] - 3s 63us/step - loss: 7.6435 - acc: 0.1059\n",
            "Epoch 10/10\n",
            "42000/42000 [==============================] - 3s 63us/step - loss: 7.5817 - acc: 0.1059\n",
            "18000/18000 [==============================] - 2s 130us/step\n",
            "Try 7/100: Best_val_acc: 0.10116666666666667, lr: 4.1368497645617264e-06, Lambda: 0.02492058050449416\n",
            "\n",
            "Epoch 1/10\n",
            "42000/42000 [==============================] - 5s 121us/step - loss: nan - acc: 0.0995\n",
            "Epoch 2/10\n",
            "42000/42000 [==============================] - 3s 63us/step - loss: nan - acc: 0.0997\n",
            "Epoch 3/10\n",
            "42000/42000 [==============================] - 3s 63us/step - loss: nan - acc: 0.0997\n",
            "Epoch 4/10\n",
            "42000/42000 [==============================] - 3s 63us/step - loss: nan - acc: 0.0997\n",
            "Epoch 5/10\n",
            "42000/42000 [==============================] - 3s 63us/step - loss: nan - acc: 0.0997\n",
            "Epoch 6/10\n",
            "42000/42000 [==============================] - 3s 63us/step - loss: nan - acc: 0.0997\n",
            "Epoch 7/10\n",
            "42000/42000 [==============================] - 3s 63us/step - loss: nan - acc: 0.0997\n",
            "Epoch 8/10\n",
            "42000/42000 [==============================] - 3s 63us/step - loss: nan - acc: 0.0997\n",
            "Epoch 9/10\n",
            "42000/42000 [==============================] - 3s 63us/step - loss: nan - acc: 0.0997\n",
            "Epoch 10/10\n",
            "42000/42000 [==============================] - 3s 69us/step - loss: nan - acc: 0.0997\n",
            "18000/18000 [==============================] - 3s 143us/step\n",
            "Try 8/100: Best_val_acc: 0.10077777777777777, lr: 0.08609722407885984, Lambda: 70.56448803837188\n",
            "\n",
            "Epoch 1/10\n",
            "42000/42000 [==============================] - 6s 134us/step - loss: 5118.7960 - acc: 0.0990\n",
            "Epoch 2/10\n",
            "42000/42000 [==============================] - 3s 64us/step - loss: 2593.8054 - acc: 0.0995\n",
            "Epoch 3/10\n",
            "42000/42000 [==============================] - 3s 63us/step - loss: 2908.9118 - acc: 0.0986\n",
            "Epoch 4/10\n",
            "42000/42000 [==============================] - 3s 64us/step - loss: 3773.1677 - acc: 0.1004\n",
            "Epoch 5/10\n",
            "42000/42000 [==============================] - 3s 64us/step - loss: 2175.6039 - acc: 0.0986\n",
            "Epoch 6/10\n",
            "42000/42000 [==============================] - 3s 65us/step - loss: 2340.6721 - acc: 0.0991\n",
            "Epoch 7/10\n",
            "42000/42000 [==============================] - 3s 64us/step - loss: 2630.2663 - acc: 0.0993\n",
            "Epoch 8/10\n",
            "42000/42000 [==============================] - 3s 63us/step - loss: 2509.4872 - acc: 0.1014\n",
            "Epoch 9/10\n",
            "42000/42000 [==============================] - 3s 63us/step - loss: 2308.0034 - acc: 0.0991\n",
            "Epoch 10/10\n",
            "42000/42000 [==============================] - 3s 63us/step - loss: 2255.2251 - acc: 0.0994\n",
            "18000/18000 [==============================] - 2s 132us/step\n",
            "Try 9/100: Best_val_acc: 0.10177777777777777, lr: 0.5685522369932066, Lambda: 0.0048824202243378705\n",
            "\n",
            "Epoch 1/10\n",
            "42000/42000 [==============================] - 5s 123us/step - loss: 2381672.0345 - acc: 0.0984\n",
            "Epoch 2/10\n",
            "42000/42000 [==============================] - 3s 69us/step - loss: 155498.7854 - acc: 0.1029\n",
            "Epoch 3/10\n",
            "42000/42000 [==============================] - 3s 69us/step - loss: 760880005.6719 - acc: 0.0991\n",
            "Epoch 4/10\n",
            "42000/42000 [==============================] - 3s 64us/step - loss: 142499.0343 - acc: 0.1010\n",
            "Epoch 5/10\n",
            "42000/42000 [==============================] - 3s 64us/step - loss: 202772.3161 - acc: 0.0969\n",
            "Epoch 6/10\n",
            "42000/42000 [==============================] - 3s 64us/step - loss: 144038.1127 - acc: 0.0970\n",
            "Epoch 7/10\n",
            "42000/42000 [==============================] - 3s 64us/step - loss: 166222.3057 - acc: 0.0999\n",
            "Epoch 8/10\n",
            "42000/42000 [==============================] - 3s 64us/step - loss: 124223.9021 - acc: 0.0987\n",
            "Epoch 9/10\n",
            "42000/42000 [==============================] - 3s 63us/step - loss: 129342.8848 - acc: 0.1003\n",
            "Epoch 10/10\n",
            "42000/42000 [==============================] - 3s 64us/step - loss: 136097.2882 - acc: 0.1005\n",
            "18000/18000 [==============================] - 2s 137us/step\n",
            "Try 10/100: Best_val_acc: 0.09972222222222223, lr: 0.7884812893424665, Lambda: 0.013400107962307086\n",
            "\n",
            "Epoch 1/10\n",
            "42000/42000 [==============================] - 5s 125us/step - loss: 172.0097 - acc: 0.0969\n",
            "Epoch 2/10\n",
            "42000/42000 [==============================] - 3s 64us/step - loss: 97.6364 - acc: 0.0955\n",
            "Epoch 3/10\n",
            "42000/42000 [==============================] - 3s 64us/step - loss: 80.8438 - acc: 0.1008\n",
            "Epoch 4/10\n",
            "42000/42000 [==============================] - 3s 64us/step - loss: 79.1366 - acc: 0.1029\n",
            "Epoch 5/10\n",
            "42000/42000 [==============================] - 3s 64us/step - loss: 78.5150 - acc: 0.1032\n",
            "Epoch 6/10\n",
            "42000/42000 [==============================] - 3s 64us/step - loss: 77.9205 - acc: 0.1031\n",
            "Epoch 7/10\n",
            "42000/42000 [==============================] - 3s 64us/step - loss: 77.3375 - acc: 0.1028\n",
            "Epoch 8/10\n",
            "42000/42000 [==============================] - 3s 64us/step - loss: 76.7673 - acc: 0.1024\n",
            "Epoch 9/10\n",
            "42000/42000 [==============================] - 3s 65us/step - loss: 76.2064 - acc: 0.1026\n",
            "Epoch 10/10\n",
            "42000/42000 [==============================] - 3s 63us/step - loss: 75.6611 - acc: 0.1027\n",
            "18000/18000 [==============================] - 2s 137us/step\n",
            "Try 11/100: Best_val_acc: 0.10188888888888889, lr: 1.5019292430315417e-07, Lambda: 0.30682473588436865\n",
            "\n",
            "Epoch 1/10\n",
            "42000/42000 [==============================] - 5s 126us/step - loss: 18150737643207.2148 - acc: 0.1001\n",
            "Epoch 2/10\n",
            "42000/42000 [==============================] - 3s 64us/step - loss: 64417398.8286 - acc: 0.1011\n",
            "Epoch 3/10\n",
            "42000/42000 [==============================] - 3s 65us/step - loss: 33892588.4450 - acc: 0.1013\n",
            "Epoch 4/10\n",
            "42000/42000 [==============================] - 3s 65us/step - loss: 37587041.9718 - acc: 0.1007\n",
            "Epoch 5/10\n",
            "42000/42000 [==============================] - 3s 64us/step - loss: 45102461.3086 - acc: 0.0991\n",
            "Epoch 6/10\n",
            "42000/42000 [==============================] - 3s 65us/step - loss: 41054802.2796 - acc: 0.0995\n",
            "Epoch 7/10\n",
            "42000/42000 [==============================] - 3s 65us/step - loss: 62723272.7680 - acc: 0.0977\n",
            "Epoch 8/10\n",
            "42000/42000 [==============================] - 3s 64us/step - loss: 73242612.2023 - acc: 0.0997\n",
            "Epoch 9/10\n",
            "42000/42000 [==============================] - 3s 64us/step - loss: 47440938.9630 - acc: 0.1007\n",
            "Epoch 10/10\n",
            "42000/42000 [==============================] - 3s 63us/step - loss: 43452797.7798 - acc: 0.0985\n",
            "18000/18000 [==============================] - 2s 138us/step\n",
            "Try 12/100: Best_val_acc: 0.10188888888888889, lr: 1.7334757787277646, Lambda: 0.05244638851050594\n",
            "\n",
            "Epoch 1/10\n",
            "42000/42000 [==============================] - 5s 128us/step - loss: nan - acc: 0.0997\n",
            "Epoch 2/10\n",
            "42000/42000 [==============================] - 3s 64us/step - loss: nan - acc: 0.0997\n",
            "Epoch 3/10\n",
            "42000/42000 [==============================] - 3s 64us/step - loss: nan - acc: 0.0997\n",
            "Epoch 4/10\n",
            "42000/42000 [==============================] - 3s 64us/step - loss: nan - acc: 0.0997\n",
            "Epoch 5/10\n",
            "42000/42000 [==============================] - 3s 64us/step - loss: nan - acc: 0.0997\n",
            "Epoch 6/10\n",
            "42000/42000 [==============================] - 3s 64us/step - loss: nan - acc: 0.0997\n",
            "Epoch 7/10\n",
            "42000/42000 [==============================] - 3s 65us/step - loss: nan - acc: 0.0997\n",
            "Epoch 8/10\n",
            "42000/42000 [==============================] - 3s 64us/step - loss: nan - acc: 0.0997\n",
            "Epoch 9/10\n",
            "42000/42000 [==============================] - 3s 65us/step - loss: nan - acc: 0.0997\n",
            "Epoch 10/10\n",
            "42000/42000 [==============================] - 3s 64us/step - loss: nan - acc: 0.0997\n",
            "18000/18000 [==============================] - 3s 140us/step\n",
            "Try 13/100: Best_val_acc: 0.10077777777777777, lr: 3575.124867397451, Lambda: 60.11094595324173\n",
            "\n",
            "Epoch 1/10\n",
            "42000/42000 [==============================] - 5s 128us/step - loss: nan - acc: 0.0996\n",
            "Epoch 2/10\n",
            "42000/42000 [==============================] - 3s 64us/step - loss: nan - acc: 0.0997\n",
            "Epoch 3/10\n",
            "42000/42000 [==============================] - 3s 64us/step - loss: nan - acc: 0.0997\n",
            "Epoch 4/10\n",
            "42000/42000 [==============================] - 3s 65us/step - loss: nan - acc: 0.0997\n",
            "Epoch 5/10\n",
            "42000/42000 [==============================] - 3s 65us/step - loss: nan - acc: 0.0997\n",
            "Epoch 6/10\n",
            "42000/42000 [==============================] - 3s 64us/step - loss: nan - acc: 0.0997\n",
            "Epoch 7/10\n",
            "42000/42000 [==============================] - 3s 65us/step - loss: nan - acc: 0.0997\n",
            "Epoch 8/10\n",
            "42000/42000 [==============================] - 3s 64us/step - loss: nan - acc: 0.0997\n",
            "Epoch 9/10\n",
            "42000/42000 [==============================] - 3s 65us/step - loss: nan - acc: 0.0997\n",
            "Epoch 10/10\n",
            "42000/42000 [==============================] - 3s 65us/step - loss: nan - acc: 0.0997\n",
            "18000/18000 [==============================] - 3s 141us/step\n",
            "Try 14/100: Best_val_acc: 0.10077777777777777, lr: 0.6642020564252009, Lambda: 158.46692767397266\n",
            "\n",
            "Epoch 1/10\n",
            "42000/42000 [==============================] - 5s 131us/step - loss: 47693861.7667 - acc: 0.1011\n",
            "Epoch 2/10\n",
            "42000/42000 [==============================] - 3s 65us/step - loss: 50668157.9269 - acc: 0.0999\n",
            "Epoch 3/10\n",
            "42000/42000 [==============================] - 3s 65us/step - loss: 57786065.0781 - acc: 0.0983\n",
            "Epoch 4/10\n",
            "42000/42000 [==============================] - 3s 64us/step - loss: 27887881.3441 - acc: 0.0993\n",
            "Epoch 5/10\n",
            "42000/42000 [==============================] - 3s 64us/step - loss: 11221923.8057 - acc: 0.1013\n",
            "Epoch 6/10\n",
            "42000/42000 [==============================] - 3s 65us/step - loss: 39785953.5478 - acc: 0.1001\n",
            "Epoch 7/10\n",
            "42000/42000 [==============================] - 3s 64us/step - loss: 50824171.7970 - acc: 0.1018\n",
            "Epoch 8/10\n",
            "42000/42000 [==============================] - 3s 65us/step - loss: 47169471.1276 - acc: 0.1006\n",
            "Epoch 9/10\n",
            "42000/42000 [==============================] - 3s 64us/step - loss: 54001573.4884 - acc: 0.0997\n",
            "Epoch 10/10\n",
            "42000/42000 [==============================] - 3s 64us/step - loss: 38669640.0971 - acc: 0.1004\n",
            "18000/18000 [==============================] - 3s 141us/step\n",
            "Try 15/100: Best_val_acc: 0.09905555555555555, lr: 7.02684474949737e-06, Lambda: 214.29924676855768\n",
            "\n",
            "Epoch 1/10\n",
            "42000/42000 [==============================] - 6s 133us/step - loss: 17476951.5845 - acc: 0.0987\n",
            "Epoch 2/10\n",
            "42000/42000 [==============================] - 3s 65us/step - loss: 4044572.0384 - acc: 0.0991\n",
            "Epoch 3/10\n",
            "42000/42000 [==============================] - 3s 65us/step - loss: 1842444.1809 - acc: 0.1002\n",
            "Epoch 4/10\n",
            "42000/42000 [==============================] - 3s 64us/step - loss: 2528885.3620 - acc: 0.0999\n",
            "Epoch 5/10\n",
            "42000/42000 [==============================] - 3s 64us/step - loss: 2457504.3907 - acc: 0.0999\n",
            "Epoch 6/10\n",
            "42000/42000 [==============================] - 3s 64us/step - loss: 1567640.9868 - acc: 0.1014\n",
            "Epoch 7/10\n",
            "42000/42000 [==============================] - 3s 64us/step - loss: 1687686.9246 - acc: 0.0999\n",
            "Epoch 8/10\n",
            "42000/42000 [==============================] - 3s 64us/step - loss: 2015363.2244 - acc: 0.1009\n",
            "Epoch 9/10\n",
            "42000/42000 [==============================] - 3s 64us/step - loss: 2593221.6975 - acc: 0.1003\n",
            "Epoch 10/10\n",
            "42000/42000 [==============================] - 3s 64us/step - loss: 2196077.1608 - acc: 0.0992\n",
            "18000/18000 [==============================] - 3s 141us/step\n",
            "Try 16/100: Best_val_acc: 0.09844444444444445, lr: 0.0029731267416630057, Lambda: 1.2264544677873963\n",
            "\n",
            "Epoch 1/10\n",
            "42000/42000 [==============================] - 6s 132us/step - loss: 5148.2287 - acc: 0.1015\n",
            "Epoch 2/10\n",
            "42000/42000 [==============================] - 3s 65us/step - loss: 4768.3065 - acc: 0.0978\n",
            "Epoch 3/10\n",
            "42000/42000 [==============================] - 3s 64us/step - loss: 4725.9113 - acc: 0.1008\n",
            "Epoch 4/10\n",
            "42000/42000 [==============================] - 3s 64us/step - loss: 4724.9312 - acc: 0.1030\n",
            "Epoch 5/10\n",
            "42000/42000 [==============================] - 3s 65us/step - loss: 4715.5616 - acc: 0.1004\n",
            "Epoch 6/10\n",
            "42000/42000 [==============================] - 3s 64us/step - loss: 4721.2781 - acc: 0.1009\n",
            "Epoch 7/10\n",
            "42000/42000 [==============================] - 3s 64us/step - loss: 4717.6315 - acc: 0.1014\n",
            "Epoch 8/10\n",
            "42000/42000 [==============================] - 3s 64us/step - loss: 4713.1741 - acc: 0.0984\n",
            "Epoch 9/10\n",
            "42000/42000 [==============================] - 3s 64us/step - loss: 4714.8051 - acc: 0.1030\n",
            "Epoch 10/10\n",
            "42000/42000 [==============================] - 3s 64us/step - loss: 4715.6165 - acc: 0.1016\n",
            "18000/18000 [==============================] - 3s 145us/step\n",
            "Try 17/100: Best_val_acc: 0.09522222222222222, lr: 4.603405916216989e-05, Lambda: 5.566096325649072\n",
            "\n",
            "Epoch 1/10\n",
            "42000/42000 [==============================] - 6s 134us/step - loss: 11333.3030 - acc: 0.0994\n",
            "Epoch 2/10\n",
            "42000/42000 [==============================] - 3s 65us/step - loss: 9418.0646 - acc: 0.1016\n",
            "Epoch 3/10\n",
            "42000/42000 [==============================] - 3s 65us/step - loss: 8286.7084 - acc: 0.1010\n",
            "Epoch 4/10\n",
            "42000/42000 [==============================] - 3s 66us/step - loss: 7745.8007 - acc: 0.1006\n",
            "Epoch 5/10\n",
            "42000/42000 [==============================] - 3s 73us/step - loss: 7464.0518 - acc: 0.0988\n",
            "Epoch 6/10\n",
            "42000/42000 [==============================] - 3s 73us/step - loss: 7306.2983 - acc: 0.0986\n",
            "Epoch 7/10\n",
            "42000/42000 [==============================] - 3s 73us/step - loss: 7156.4961 - acc: 0.0989\n",
            "Epoch 8/10\n",
            "42000/42000 [==============================] - 3s 66us/step - loss: 7087.0619 - acc: 0.0988\n",
            "Epoch 9/10\n",
            "42000/42000 [==============================] - 3s 65us/step - loss: 7019.5388 - acc: 0.0997\n",
            "Epoch 10/10\n",
            "42000/42000 [==============================] - 3s 65us/step - loss: 6980.3618 - acc: 0.0967\n",
            "18000/18000 [==============================] - 3s 146us/step\n",
            "Try 18/100: Best_val_acc: 0.0945, lr: 1.5318302137500956e-06, Lambda: 37.08134687279594\n",
            "\n",
            "Epoch 1/10\n",
            "42000/42000 [==============================] - 6s 135us/step - loss: nan - acc: 0.0998\n",
            "Epoch 2/10\n",
            "42000/42000 [==============================] - 3s 64us/step - loss: nan - acc: 0.0997\n",
            "Epoch 3/10\n",
            "42000/42000 [==============================] - 3s 65us/step - loss: nan - acc: 0.0997\n",
            "Epoch 4/10\n",
            "42000/42000 [==============================] - 3s 65us/step - loss: nan - acc: 0.0997\n",
            "Epoch 5/10\n",
            "42000/42000 [==============================] - 3s 65us/step - loss: nan - acc: 0.0997\n",
            "Epoch 6/10\n",
            "42000/42000 [==============================] - 3s 69us/step - loss: nan - acc: 0.0997\n",
            "Epoch 7/10\n",
            "42000/42000 [==============================] - 3s 68us/step - loss: nan - acc: 0.0997\n",
            "Epoch 8/10\n",
            "42000/42000 [==============================] - 3s 65us/step - loss: nan - acc: 0.0997\n",
            "Epoch 9/10\n",
            "42000/42000 [==============================] - 3s 65us/step - loss: nan - acc: 0.0997\n",
            "Epoch 10/10\n",
            "42000/42000 [==============================] - 3s 65us/step - loss: nan - acc: 0.0997\n",
            "18000/18000 [==============================] - 3s 147us/step\n",
            "Try 19/100: Best_val_acc: 0.10077777777777777, lr: 1619.8690452011406, Lambda: 0.29738580545013826\n",
            "\n"
          ],
          "name": "stdout"
        }
      ]
    },
    {
      "metadata": {
        "id": "AwGzLMozPgrw",
        "colab_type": "text"
      },
      "cell_type": "markdown",
      "source": [
        "### Now run finer search"
      ]
    },
    {
      "metadata": {
        "id": "CRbkGDgOGydf",
        "colab_type": "code",
        "colab": {
          "base_uri": "https://localhost:8080/",
          "height": 656
        },
        "outputId": "8595ecae-bcf9-4e85-8bb4-576a1ea14ce1"
      },
      "cell_type": "code",
      "source": [
        "import math\n",
        "for k in range(1,10):\n",
        "    lr = math.pow(10, np.random.uniform(-3.0, -2.0))\n",
        "    Lambda = math.pow(10, np.random.uniform(-5,2))\n",
        "    best_acc = train_and_test_loop(1, lr, Lambda, False)\n",
        "    print(\"Try {0}/{1}: Best_val_acc: {2}, lr: {3}, Lambda: {4}\\n\".format(k, 100, best_acc, lr, Lambda))"
      ],
      "execution_count": 22,
      "outputs": [
        {
          "output_type": "stream",
          "text": [
            "Epoch 1/1\n",
            "42000/42000 [==============================] - 6s 140us/step - loss: 2.6885 - acc: 0.1115\n",
            "Try 1/100: Best_val_acc: None, lr: 0.0020040290996236726, Lambda: 0.003061818286394544\n",
            "\n",
            "Epoch 1/1\n",
            "42000/42000 [==============================] - 6s 139us/step - loss: nan - acc: 0.0992\n",
            "Try 2/100: Best_val_acc: None, lr: 0.0020966739380652967, Lambda: 15.410392818767882\n",
            "\n",
            "Epoch 1/1\n",
            "42000/42000 [==============================] - 6s 140us/step - loss: nan - acc: 0.1008\n",
            "Try 3/100: Best_val_acc: None, lr: 0.006708929668292378, Lambda: 1.5361792252962088\n",
            "\n",
            "Epoch 1/1\n",
            "42000/42000 [==============================] - 6s 142us/step - loss: nan - acc: 0.0985\n",
            "Try 4/100: Best_val_acc: None, lr: 0.003006232764717569, Lambda: 4.769587324404851\n",
            "\n",
            "Epoch 1/1\n",
            "42000/42000 [==============================] - 6s 143us/step - loss: nan - acc: 0.0994\n",
            "Try 5/100: Best_val_acc: None, lr: 0.005565223875129477, Lambda: 20.414903250247587\n",
            "\n",
            "Epoch 1/1\n",
            "42000/42000 [==============================] - 6s 145us/step - loss: 5.1812 - acc: 0.1004\n",
            "Try 6/100: Best_val_acc: None, lr: 0.0016601208620742106, Lambda: 0.015282305105081415\n",
            "\n",
            "Epoch 1/1\n",
            "42000/42000 [==============================] - 6s 153us/step - loss: 526.8013 - acc: 0.1008\n",
            "Try 7/100: Best_val_acc: None, lr: 0.0013429704599653932, Lambda: 0.1971097913064156\n",
            "\n",
            "Epoch 1/1\n",
            "42000/42000 [==============================] - 7s 158us/step - loss: 9.5147 - acc: 0.1004\n",
            "Try 8/100: Best_val_acc: None, lr: 0.001350411540914494, Lambda: 0.029678225654200373\n",
            "\n",
            "Epoch 1/1\n",
            "42000/42000 [==============================] - 6s 149us/step - loss: 3.6347 - acc: 0.1032\n",
            "Try 9/100: Best_val_acc: None, lr: 0.0014170340625411333, Lambda: 0.009400098754779086\n",
            "\n"
          ],
          "name": "stdout"
        }
      ]
    }
  ]
}