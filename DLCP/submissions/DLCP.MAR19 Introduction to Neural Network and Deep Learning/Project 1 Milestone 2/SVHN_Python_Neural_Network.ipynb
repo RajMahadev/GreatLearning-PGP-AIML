{
  "nbformat": 4,
  "nbformat_minor": 0,
  "metadata": {
    "colab": {
      "name": "SVHN Python Neural Network.ipynb",
      "version": "0.3.2",
      "provenance": [],
      "toc_visible": true
    },
    "kernelspec": {
      "display_name": "Python 2",
      "language": "python",
      "name": "python2"
    }
  },
  "cells": [
    {
      "metadata": {
        "id": "3yPmtjOZ9iAS",
        "colab_type": "text"
      },
      "cell_type": "markdown",
      "source": [
        "### Build a simple Neural Network on SVHN dataset"
      ]
    },
    {
      "metadata": {
        "id": "8aMczb_M9iAU",
        "colab_type": "text"
      },
      "cell_type": "markdown",
      "source": [
        "#### Import the data from drive"
      ]
    },
    {
      "metadata": {
        "id": "Li_VjN5V9iAY",
        "colab_type": "code",
        "outputId": "ef1b6d0f-bce2-4dfe-ac1c-524446aee8b4",
        "colab": {
          "base_uri": "https://localhost:8080/",
          "height": 125
        }
      },
      "cell_type": "code",
      "source": [
        "from google.colab import drive\n",
        "drive.mount('/content/drive')"
      ],
      "execution_count": 0,
      "outputs": [
        {
          "output_type": "stream",
          "text": [
            "Go to this URL in a browser: https://accounts.google.com/o/oauth2/auth?client_id=947318989803-6bn6qk8qdgf4n4g3pfee6491hc0brc4i.apps.googleusercontent.com&redirect_uri=urn%3Aietf%3Awg%3Aoauth%3A2.0%3Aoob&scope=email%20https%3A%2F%2Fwww.googleapis.com%2Fauth%2Fdocs.test%20https%3A%2F%2Fwww.googleapis.com%2Fauth%2Fdrive%20https%3A%2F%2Fwww.googleapis.com%2Fauth%2Fdrive.photos.readonly%20https%3A%2F%2Fwww.googleapis.com%2Fauth%2Fpeopleapi.readonly&response_type=code\n",
            "\n",
            "Enter your authorization code:\n",
            "··········\n",
            "Mounted at /content/drive\n"
          ],
          "name": "stdout"
        }
      ]
    },
    {
      "metadata": {
        "scrolled": true,
        "id": "W7hTYAq49iAc",
        "colab_type": "code",
        "outputId": "574b43df-658a-423e-973f-1673e6482470",
        "colab": {
          "base_uri": "https://localhost:8080/",
          "height": 52
        }
      },
      "cell_type": "code",
      "source": [
        "import h5py\n",
        "import numpy as np\n",
        "import matplotlib.pyplot as plt\n",
        "\n",
        "# Open the file as readonly\n",
        "\n",
        "h5f = h5py.File('/content/drive/My Drive/DLCP/Project-1/Data/SVHN_single_grey1.h5', 'r')\n",
        "\n",
        "# Load the training, test and validation set\n",
        "x_train = h5f['X_train'][:]\n",
        "y_train = h5f['y_train'][:]\n",
        "x_test = h5f['X_test'][:]\n",
        "y_test = h5f['y_test'][:]\n",
        "\n",
        "\n",
        "# Close this file\n",
        "h5f.close()\n",
        "\n",
        "x_train = x_train.reshape(x_train.shape[0], 1024)\n",
        "x_test = x_test.reshape(x_test.shape[0], 1024)\n",
        "\n",
        "# # normalize inputs from 0-255 to 0-1\n",
        "x_train = x_train / 255.0\n",
        "x_test = x_test / 255.0\n",
        "\n",
        "print('Training set', x_train.shape, y_train.shape)\n",
        "print('Test set', x_test.shape, y_test.shape)"
      ],
      "execution_count": 0,
      "outputs": [
        {
          "output_type": "stream",
          "text": [
            "('Training set', (42000, 1024), (42000,))\n",
            "('Test set', (18000, 1024), (18000,))\n"
          ],
          "name": "stdout"
        }
      ]
    },
    {
      "metadata": {
        "id": "goHuC8B29iAo",
        "colab_type": "code",
        "outputId": "7e72bf50-62e5-4c9e-92d8-5100fccc6069",
        "colab": {
          "base_uri": "https://localhost:8080/",
          "height": 52
        }
      },
      "cell_type": "code",
      "source": [
        "print(x_train.shape)\n",
        "print(y_train.shape)"
      ],
      "execution_count": 0,
      "outputs": [
        {
          "output_type": "stream",
          "text": [
            "(42000, 1024)\n",
            "(42000,)\n"
          ],
          "name": "stdout"
        }
      ]
    },
    {
      "metadata": {
        "scrolled": true,
        "id": "asxNv6KU9iAt",
        "colab_type": "code",
        "outputId": "17000196-1b72-4d29-9b51-3ebee86d8b2e",
        "colab": {
          "base_uri": "https://localhost:8080/",
          "height": 52
        }
      },
      "cell_type": "code",
      "source": [
        "print(x_test.shape)\n",
        "print(y_test.shape)"
      ],
      "execution_count": 0,
      "outputs": [
        {
          "output_type": "stream",
          "text": [
            "(18000, 1024)\n",
            "(18000,)\n"
          ],
          "name": "stdout"
        }
      ]
    },
    {
      "metadata": {
        "id": "hN0-qf9S9iA0",
        "colab_type": "text"
      },
      "cell_type": "markdown",
      "source": [
        "### Neural network from scratch"
      ]
    },
    {
      "metadata": {
        "id": "g0Th8EjI9iA5",
        "colab_type": "text"
      },
      "cell_type": "markdown",
      "source": [
        "#### Fully Connected Layer (Linear Layer)"
      ]
    },
    {
      "metadata": {
        "id": "xc_-vf849iA6",
        "colab_type": "code",
        "colab": {}
      },
      "cell_type": "code",
      "source": [
        "# Fully Connected Layer\n",
        "\n",
        "class Linear():\n",
        "  \"\"\"\n",
        "  Fully Connected Layer\n",
        "  \"\"\"\n",
        "  def __init__(self, input_size, output_size):\n",
        "    self.W = np.random.randn(input_size, output_size) * 0.01 # random weights\n",
        "    self.b = np.zeros((1, output_size)) # random bias\n",
        "    self.params = [self.W, self.b] # list of parameters\n",
        "    self.gradW = None # gradient of weights\n",
        "    self.gradB = None # gradient of bias\n",
        "    self.gradInput = None\n",
        "  \n",
        "  def forward(self, X):\n",
        "    self.X = X\n",
        "    # output = X.W + b\n",
        "    self.output = np.dot(X, self.W) + self.b\n",
        "    return self.output\n",
        "  \n",
        "  def backward(self, nextgrad):\n",
        "    self.gradW = np.dot(self.X.T, nextgrad) # gradW = transpose(X).nextgrad\n",
        "    self.gradB = np.sum(nextgrad, axis=0)\n",
        "    self.gradInput = np.dot(nextgrad, self.W.T)\n",
        "    return self.gradInput, [self.gradW, self.gradB]"
      ],
      "execution_count": 0,
      "outputs": []
    },
    {
      "metadata": {
        "id": "jb10UoC29iA9",
        "colab_type": "text"
      },
      "cell_type": "markdown",
      "source": [
        "#### Rectified Linear Activation Layer (ReLU)\n"
      ]
    },
    {
      "metadata": {
        "id": "zN94HaLS9iA-",
        "colab_type": "code",
        "colab": {}
      },
      "cell_type": "code",
      "source": [
        "class ReLU():\n",
        "  \"\"\"\n",
        "  Rectified Linear Activation Layer (ReLU)\n",
        "  \"\"\"\n",
        "  def __init__(self):\n",
        "    self.params = [] # list of parameters\n",
        "    self.gradInput = None\n",
        "\n",
        "  def forward(self, X):\n",
        "    # relu(x) = np.max(0, x)\n",
        "    self.output = np.maximum(X, 0)\n",
        "    return self.output\n",
        "\n",
        "  def backward(self, nextgrad):\n",
        "    self.gradInput = nextgrad.copy()\n",
        "    self.gradInput[self.output <=0] = 0\n",
        "    return self.gradInput, []"
      ],
      "execution_count": 0,
      "outputs": []
    },
    {
      "metadata": {
        "id": "8sOUYyVq9iBD",
        "colab_type": "text"
      },
      "cell_type": "markdown",
      "source": [
        "#### Define softmax function"
      ]
    },
    {
      "metadata": {
        "id": "wTuaLMW_9iBE",
        "colab_type": "code",
        "colab": {}
      },
      "cell_type": "code",
      "source": [
        "class Softmax():\n",
        "  \"\"\"\n",
        "  Softmax Activation Function\n",
        "  \"\"\"\n",
        "  def __init__(self):\n",
        "    self.params = []\n",
        "    self.gradInput = None\n",
        "\n",
        "  def forward(self, X):\n",
        "    exp_x = np.exp(X - np.max(X, axis=1, keepdims=True))\n",
        "    self.output = exp_x / np.sum(exp_x, axis=1, keepdims=True)\n",
        "    return self.output\n",
        "\n",
        "  def backward(self, nextgrad):\n",
        "    self.gradInput = nextgrad.copy()\n",
        "    self.gradInput[self.output <=0] = 0\n",
        "    return self.gradInput, []"
      ],
      "execution_count": 0,
      "outputs": []
    },
    {
      "metadata": {
        "id": "UN9RUXPs9iBK",
        "colab_type": "text"
      },
      "cell_type": "markdown",
      "source": [
        "#### Define the Cross Entropy Loss"
      ]
    },
    {
      "metadata": {
        "id": "wdw3k6a89iBN",
        "colab_type": "code",
        "colab": {}
      },
      "cell_type": "code",
      "source": [
        "class CrossEntropy:\n",
        "  def forward(self, X, y):\n",
        "    self.m = y.shape[0]\n",
        "    self.p = softmax(X)\n",
        "    cross_entropy = -np.log(self.p[range(self.m), y]+1e-16)\n",
        "    loss = np.sum(cross_entropy) / self.m\n",
        "    return loss\n",
        "\n",
        "  def backward(self, X, y):\n",
        "    y_idx = y.argmax()        \n",
        "    grad = softmax(X)\n",
        "    grad[range(self.m), y] -= 1\n",
        "    grad /= self.m\n",
        "    return grad"
      ],
      "execution_count": 0,
      "outputs": []
    },
    {
      "metadata": {
        "id": "3WGzkZ-y9iBP",
        "colab_type": "text"
      },
      "cell_type": "markdown",
      "source": [
        "#### Define the container NN class that enables the forward prop and backward propagation of the entire network. Note, how this class enables us to add layers of different types and also correctly pass gradients using the chain rule."
      ]
    },
    {
      "metadata": {
        "id": "36Lb_DJu9iBS",
        "colab_type": "code",
        "colab": {}
      },
      "cell_type": "code",
      "source": [
        "class NN():\n",
        "  def __init__(self, lossfunc=CrossEntropy(), mode='train'):\n",
        "    self.params = []\n",
        "    self.layers = []\n",
        "    self.loss_func = lossfunc\n",
        "    self.grads = []\n",
        "    self.mode = mode\n",
        "\n",
        "  def add_layer(self, layer):\n",
        "    self.layers.append(layer)\n",
        "    self.params.append(layer.params)\n",
        "\n",
        "  def forward(self, X):\n",
        "    for layer in self.layers:\n",
        "        X = layer.forward(X)\n",
        "    return X\n",
        "\n",
        "  def backward(self, nextgrad):\n",
        "    self.clear_grad_param()\n",
        "    for layer in reversed(self.layers):\n",
        "        nextgrad, grad = layer.backward(nextgrad)\n",
        "        self.grads.append(grad)\n",
        "    return self.grads\n",
        "\n",
        "  def train_step(self, X, y):\n",
        "    out = self.forward(X)\n",
        "    loss = self.loss_func.forward(out,y)\n",
        "    nextgrad = self.loss_func.backward(out,y)\n",
        "    grads = self.backward(nextgrad)\n",
        "    return loss, grads\n",
        "\n",
        "  def predict(self, X):\n",
        "    X = self.forward(X)\n",
        "    p = softmax(X)\n",
        "    return np.argmax(p, axis=1)\n",
        "\n",
        "  def predict_scores(self, X):\n",
        "    X = self.forward(X)\n",
        "    p = softmax(X)\n",
        "    return p\n",
        "\n",
        "  def clear_grad_param(self):\n",
        "    self.grads = []"
      ],
      "execution_count": 0,
      "outputs": []
    },
    {
      "metadata": {
        "id": "2__dsgXM9iBY",
        "colab_type": "text"
      },
      "cell_type": "markdown",
      "source": [
        "#### Define the update function (SGD with momentum)"
      ]
    },
    {
      "metadata": {
        "id": "Qc40BqbW9iBb",
        "colab_type": "code",
        "colab": {}
      },
      "cell_type": "code",
      "source": [
        "def update_params(velocity, params, grads, learning_rate=0.01, mu=0.9):\n",
        "  for v, p, g, in zip(velocity, params, reversed(grads)):\n",
        "    for i in range(len(g)):\n",
        "      v[i] = mu * v[i] - learning_rate * g[i]\n",
        "      p[i] += v[i]"
      ],
      "execution_count": 0,
      "outputs": []
    },
    {
      "metadata": {
        "id": "0pdp62ub9iBe",
        "colab_type": "text"
      },
      "cell_type": "markdown",
      "source": [
        "#### Define a function which gives us the minibatches (both the datapoint and the corresponding label)"
      ]
    },
    {
      "metadata": {
        "id": "wDrrQQ789iBf",
        "colab_type": "code",
        "colab": {}
      },
      "cell_type": "code",
      "source": [
        "# get minibatches\n",
        "def minibatch(X, y, minibatch_size):\n",
        "  n = X.shape[0]\n",
        "  minibatches = []\n",
        "  permutation = np.random.permutation(X.shape[0])\n",
        "  X = X[permutation]\n",
        "  y = y[permutation]\n",
        "\n",
        "  for i in range(0, n , minibatch_size):\n",
        "    X_batch = X[i:i + minibatch_size, :]\n",
        "    y_batch = y[i:i + minibatch_size, ]\n",
        "    minibatches.append((X_batch, y_batch))\n",
        "\n",
        "  return minibatches"
      ],
      "execution_count": 0,
      "outputs": []
    },
    {
      "metadata": {
        "id": "xflX6m_Y9iBi",
        "colab_type": "text"
      },
      "cell_type": "markdown",
      "source": [
        "#### The traning loop"
      ]
    },
    {
      "metadata": {
        "id": "sQTCQ3Cv9iBl",
        "colab_type": "code",
        "colab": {}
      },
      "cell_type": "code",
      "source": [
        "def train(net, X_train, y_train, minibatch_size, epoch, learning_rate, mu=0.9, X_val=None, y_val=None):\n",
        "  val_loss_epoch = []\n",
        "  minibatches = minibatch(X_train, y_train, minibatch_size)\n",
        "  minibatches_val = minibatch(X_val, y_val, minibatch_size)\n",
        "\n",
        "\n",
        "  for i in range(epoch):\n",
        "      loss_batch = []\n",
        "      val_loss_batch = []\n",
        "      velocity = []\n",
        "      for param_layer in net.params:\n",
        "          p = [np.zeros_like(param) for param in list(param_layer)]\n",
        "          velocity.append(p)\n",
        "\n",
        "      # iterate over mini batches\n",
        "      for X_mini, y_mini in minibatches:\n",
        "          loss, grads = net.train_step(X_mini, y_mini)\n",
        "          loss_batch.append(loss)\n",
        "          update_params(velocity, net.params, grads, learning_rate=learning_rate, mu=mu)\n",
        "\n",
        "      for X_mini_val, y_mini_val in minibatches_val:\n",
        "          val_loss, _ = net.train_step(X_mini, y_mini)\n",
        "          val_loss_batch.append(val_loss)\n",
        "\n",
        "      # accuracy of model at end of epoch after all mini batch updates\n",
        "      m_train = X_train.shape[0]\n",
        "      m_val = X_val.shape[0]\n",
        "      y_train_pred = np.array([], dtype=\"int64\")\n",
        "      y_val_pred = np.array([], dtype=\"int64\")\n",
        "      y_train1 = []\n",
        "      y_vall = []\n",
        "      for i in range(0, m_train, minibatch_size):\n",
        "          X_tr = X_train[i:i + minibatch_size, : ]\n",
        "          y_tr = y_train[i:i + minibatch_size,]\n",
        "          y_train1 = np.append(y_train1, y_tr)\n",
        "          y_train_pred = np.append(y_train_pred, net.predict(X_tr))\n",
        "\n",
        "      for i in range(0, m_val, minibatch_size):\n",
        "          X_va = X_val[i:i + minibatch_size, : ]\n",
        "          y_va = y_val[i:i + minibatch_size,]\n",
        "          y_vall = np.append(y_vall, y_va)\n",
        "          y_val_pred = np.append(y_val_pred, net.predict(X_va))\n",
        "\n",
        "      train_acc = check_accuracy(y_train1, y_train_pred)\n",
        "      val_acc = check_accuracy(y_vall, y_val_pred)\n",
        "\n",
        "      mean_train_loss = sum(loss_batch) / float(len(loss_batch))\n",
        "      mean_val_loss = sum(val_loss_batch) / float(len(val_loss_batch))\n",
        "\n",
        "      val_loss_epoch.append(mean_val_loss)\n",
        "      print(\"Loss = {0} | Training Accuracy = {1} | Val Loss = {2} | Val Accuracy = {3}\".format(mean_train_loss, train_acc, mean_val_loss, val_acc))\n",
        "  return net"
      ],
      "execution_count": 0,
      "outputs": []
    },
    {
      "metadata": {
        "id": "_Jzysxvc9iBs",
        "colab_type": "text"
      },
      "cell_type": "markdown",
      "source": [
        "#### Write a function to check the accuracy of the model "
      ]
    },
    {
      "metadata": {
        "id": "R8OX7xMX9iBu",
        "colab_type": "code",
        "colab": {}
      },
      "cell_type": "code",
      "source": [
        "def check_accuracy(y_true, y_pred):\n",
        "    return np.mean(y_pred == y_true)"
      ],
      "execution_count": 0,
      "outputs": []
    },
    {
      "metadata": {
        "id": "jWZlYxlK9iBz",
        "colab_type": "text"
      },
      "cell_type": "markdown",
      "source": [
        "#### Invoke all that we have created until now and build a 2 linear layer Neural Network with first activation function as ReLU and second as Softmax and loss function as Cross Entropy."
      ]
    },
    {
      "metadata": {
        "id": "5iywv27c9iB6",
        "colab_type": "code",
        "outputId": "a1222e28-2766-4d55-df4b-16d61959f25f",
        "colab": {
          "base_uri": "https://localhost:8080/",
          "height": 214
        }
      },
      "cell_type": "code",
      "source": [
        "from random import shuffle\n",
        "\n",
        "## input size\n",
        "input_dim = x_train.shape[1]\n",
        "\n",
        "## hyperparameters\n",
        "iterations = 10\n",
        "learning_rate = 1e4\n",
        "hidden_nodes = 32\n",
        "output_nodes = 10\n",
        "\n",
        "## define neural net\n",
        "nn = NN(lossfunc=CrossEntropy())\n",
        "nn.add_layer(Linear(input_dim, hidden_nodes))\n",
        "nn.add_layer(ReLU())\n",
        "nn.add_layer(Linear(hidden_nodes, output_nodes))\n",
        "nn.add_layer(Softmax())\n",
        "\n",
        "nn = train(nn, x_train , y_train, minibatch_size=32, epoch=iterations, \\\n",
        "           learning_rate=learning_rate, X_val=x_test, y_val=y_test)"
      ],
      "execution_count": 0,
      "outputs": [
        {
          "output_type": "stream",
          "text": [
            "Loss = 2.36100775807 | Training Accuracy = 0.0999285714286 | Val Loss = 2.33615017173 | Val Accuracy = 0.100166666667\n",
            "Loss = 2.36167930774 | Training Accuracy = 0.0997142857143 | Val Loss = 2.27365017173 | Val Accuracy = 0.100666666667\n",
            "Loss = 2.35952177577 | Training Accuracy = 0.0997142857143 | Val Loss = 2.27365017173 | Val Accuracy = 0.100666666667\n",
            "Loss = 2.36337394532 | Training Accuracy = 0.0997142857143 | Val Loss = 2.27365017173 | Val Accuracy = 0.100666666667\n",
            "Loss = 2.36057835339 | Training Accuracy = 0.0999285714286 | Val Loss = 2.33615017173 | Val Accuracy = 0.100166666667\n",
            "Loss = 2.35988647946 | Training Accuracy = 0.101928571429 | Val Loss = 2.39865017173 | Val Accuracy = 0.0955\n",
            "Loss = 2.3615460884 | Training Accuracy = 0.0998095238095 | Val Loss = 2.33615017173 | Val Accuracy = 0.100444444444\n",
            "Loss = 2.36129961857 | Training Accuracy = 0.100761904762 | Val Loss = 2.27365017173 | Val Accuracy = 0.0982222222222\n",
            "Loss = 2.36145506686 | Training Accuracy = 0.0998095238095 | Val Loss = 2.33615017173 | Val Accuracy = 0.100444444444\n",
            "Loss = 2.3585082169 | Training Accuracy = 0.0997142857143 | Val Loss = 2.27365017173 | Val Accuracy = 0.100666666667\n"
          ],
          "name": "stdout"
        }
      ]
    },
    {
      "metadata": {
        "id": "KkGmyPeM9iCF",
        "colab_type": "text"
      },
      "cell_type": "markdown",
      "source": [
        "#### fprop a single image and showing its prediction"
      ]
    },
    {
      "metadata": {
        "id": "RyPvkKrS9iCL",
        "colab_type": "code",
        "outputId": "23fdb39f-2f38-44cb-98d9-6eadc473b42e",
        "colab": {
          "base_uri": "https://localhost:8080/",
          "height": 364
        }
      },
      "cell_type": "code",
      "source": [
        "plt.imshow(x_test[2].reshape(32, 32), cmap='gray')"
      ],
      "execution_count": 0,
      "outputs": [
        {
          "output_type": "execute_result",
          "data": {
            "text/plain": [
              "<matplotlib.image.AxesImage at 0x7f071e587e50>"
            ]
          },
          "metadata": {
            "tags": []
          },
          "execution_count": 54
        },
        {
          "output_type": "display_data",
          "data": {
            "image/png": "[encoded data removed]",
            "text/plain": [
              "<Figure size 576x396 with 1 Axes>"
            ]
          },
          "metadata": {
            "tags": []
          }
        }
      ]
    },
    {
      "metadata": {
        "id": "sR1IrEGgmGDB",
        "colab_type": "code",
        "colab": {}
      },
      "cell_type": "code",
      "source": [
        "# Predict Scores for each class\n",
        "prediction = nn.predict_scores(x_test[2])"
      ],
      "execution_count": 0,
      "outputs": []
    },
    {
      "metadata": {
        "id": "uN8QcdG6mKSx",
        "colab_type": "code",
        "outputId": "0f157deb-4323-4d8d-a51c-c79c3b8e94a6",
        "colab": {
          "base_uri": "https://localhost:8080/",
          "height": 70
        }
      },
      "cell_type": "code",
      "source": [
        "print \"Scores\"\n",
        "print prediction"
      ],
      "execution_count": 0,
      "outputs": [
        {
          "output_type": "stream",
          "text": [
            "Scores\n",
            "[[0.08533674 0.08533674 0.08533674 0.08533674 0.08533674 0.08533674\n",
            "  0.08533674 0.08533674 0.23196932 0.08533674]]\n"
          ],
          "name": "stdout"
        }
      ]
    },
    {
      "metadata": {
        "id": "IMJdvG7imMQW",
        "colab_type": "code",
        "outputId": "e2d73b6c-cc48-4825-dd42-5898ed951f5e",
        "colab": {
          "base_uri": "https://localhost:8080/",
          "height": 34
        }
      },
      "cell_type": "code",
      "source": [
        "np.argmax(prediction)"
      ],
      "execution_count": 0,
      "outputs": [
        {
          "output_type": "execute_result",
          "data": {
            "text/plain": [
              "8"
            ]
          },
          "metadata": {
            "tags": []
          },
          "execution_count": 57
        }
      ]
    },
    {
      "metadata": {
        "id": "6B3W2tSimNjh",
        "colab_type": "code",
        "outputId": "990f1b20-38af-4411-b8be-d9a0e78f585c",
        "colab": {
          "base_uri": "https://localhost:8080/",
          "height": 34
        }
      },
      "cell_type": "code",
      "source": [
        "predict_class = nn.predict(x_test[2])[0]\n",
        "predict_class"
      ],
      "execution_count": 0,
      "outputs": [
        {
          "output_type": "execute_result",
          "data": {
            "text/plain": [
              "8"
            ]
          },
          "metadata": {
            "tags": []
          },
          "execution_count": 58
        }
      ]
    },
    {
      "metadata": {
        "id": "n4BG3nzNmOUi",
        "colab_type": "code",
        "outputId": "867ac493-e5dd-4962-bdba-0b03fef0cec1",
        "colab": {
          "base_uri": "https://localhost:8080/",
          "height": 34
        }
      },
      "cell_type": "code",
      "source": [
        "# Original class\n",
        "y_test[2]"
      ],
      "execution_count": 0,
      "outputs": [
        {
          "output_type": "execute_result",
          "data": {
            "text/plain": [
              "2"
            ]
          },
          "metadata": {
            "tags": []
          },
          "execution_count": 59
        }
      ]
    }
  ]
}